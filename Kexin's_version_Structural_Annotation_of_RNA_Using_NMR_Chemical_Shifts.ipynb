{
  "nbformat": 4,
  "nbformat_minor": 0,
  "metadata": {
    "colab": {
      "name": "Kexin's version -  Structural Annotation of RNA Using NMR Chemical Shifts",
      "provenance": [],
      "collapsed_sections": [
        "nwsc0CtchjFX",
        "35jZz_taQzJk",
        "aMpj5KncQ8Vj",
        "BivHYzG2J3fq",
        "vOuLcz4glfHn",
        "u_dbqUrw3OKT",
        "bXdF6dfPnMb5",
        "lZZUpOxfYFq_",
        "8CjmsRnqkt-P",
        "Mhmt1tikq5Tj",
        "FqYYrDCKzSt_",
        "7LmubqK9zYwH",
        "SXIDR1L5NG7Y"
      ],
      "include_colab_link": true
    },
    "kernelspec": {
      "name": "python2",
      "display_name": "Python 2"
    }
  },
  "cells": [
    {
      "cell_type": "markdown",
      "metadata": {
        "id": "view-in-github",
        "colab_type": "text"
      },
      "source": [
        "<a href=\"https://colab.research.google.com/github/kekexin714/BME/blob/master/Kexin's_version_Structural_Annotation_of_RNA_Using_NMR_Chemical_Shifts.ipynb\" target=\"_parent\"><img src=\"https://colab.research.google.com/assets/colab-badge.svg\" alt=\"Open In Colab\"/></a>"
      ]
    },
    {
      "cell_type": "markdown",
      "metadata": {
        "id": "LIzeqGWIXAGZ",
        "colab_type": "text"
      },
      "source": [
        "Structural Annotation of RNA Using NMR Chemical Shifts"
      ]
    },
    {
      "cell_type": "markdown",
      "metadata": {
        "id": "nwsc0CtchjFX",
        "colab_type": "text"
      },
      "source": [
        "# Manuscript Sketch"
      ]
    },
    {
      "cell_type": "markdown",
      "metadata": {
        "id": "UcVH67Lbhl5s",
        "colab_type": "text"
      },
      "source": [
        "* **Introduction**:\n",
        "\n",
        "1. RNA structure important\n",
        "2. NMR probes structure\n",
        "3. Chemical shifts in particular sensitive to structure\n",
        "4. Highlight examples of structural parameters extracted from chemical shift data\n",
        "5. Introduce the idea of structural annotation via NMR chemical shifts\n",
        "  * base pairs\n",
        "  * adjacent and non-adjacent stacking\n",
        "  * syn vs. anti\n",
        "  * solvent exposure\n",
        "  * [pucker](https://www.youtube.com/watch?v=4VQxRKQcMYg)\n",
        "\n",
        "6. Survey the use of machine learning used to predict structural parameter from NMR chemical shifts, for both proteins and RNA\n",
        "7. Make point that most approaches previous approaches employed single task learning\n",
        "8. Extol the virtues of multi-task learning\n",
        "10. Summarize what we did and the results\n",
        "\n",
        "* **Methods**:\n",
        "1. Data set\n",
        "2. MC-Annotate\n",
        "3. Multi-task classifiers\n",
        "\n",
        "* **Results**:\n",
        "1. Model performance on test set (Macro-Analysis: e.g., ROC and concordance analysis) including impact of number of neighbors\n",
        "2. Model performance on test set (Micro-Analysis); Compare, visually target and prediction, highlighting (and possibly explaning) errors.\n",
        "3. Importance analysis (which chemical shifts are important for predicting each structural feature)\n",
        "\n",
        "\n"
      ]
    },
    {
      "cell_type": "markdown",
      "metadata": {
        "id": "35jZz_taQzJk",
        "colab_type": "text"
      },
      "source": [
        "# Functions for input preparation\n",
        "1.   Updated MC-Annotate input;\n",
        "2.   get_data now takes a third argument for specifiying whether to use C or H or both chemical shifts;\n",
        "\n",
        "\n"
      ]
    },
    {
      "cell_type": "code",
      "metadata": {
        "id": "zrIJswNoBhXp",
        "colab_type": "code",
        "colab": {}
      },
      "source": [
        "RETAIN = ['id', 'resid', 'resname', 'sasa-All-atoms', 'sasa-Total-Side', 'sasa-Main-Chain', 'sasa-Non-polar', 'sasa-All', 'sasa', 'syn_anti', 'astack', 'nastack', 'pair', 'pucker', 'class']\n",
        "RETAIN_NONAME = ['id', 'resid', 'sasa-All-atoms', 'sasa-Total-Side', 'sasa-Main-Chain', 'sasa-Non-polar', 'sasa-All', 'sasa', 'syn_anti', 'astack', 'nastack', 'pair', 'pucker', 'class']\n",
        "\n",
        "def get_cs_all(cs_all, id):\n",
        "\t'''\n",
        "\tThis function gets chemical shifts for a particular RNA.\n",
        "\t'''\n",
        "\treturn(cs_all[cs_all.id == id])\n",
        "\n",
        "def get_cs_residues(cs_i, resid, dummy=0, number_of_cs_types=19):\n",
        "\t'''\n",
        "\tThis function return an array contining the chemical shifts \n",
        "\tfor a particular residues in an RNA.\n",
        "\t'''\n",
        "\tcs_tmp=cs_i[(cs_i.resid == resid)].drop(RETAIN, axis=1)\n",
        "\tinfo_tmp=cs_i[(cs_i.resid == resid)]\n",
        "\tif (cs_tmp.shape[0] != 1):\n",
        "\t\treturn(dummy*np.ones(shape=(1, number_of_cs_types)))\n",
        "\telse:\n",
        "\t\treturn(cs_tmp.values)\n",
        "\n",
        "def get_resnames(cs_i, resid, dummy=\"UNK\"):\n",
        "\t'''\n",
        "\tThis function returns the residue name for specified residue (resid)\n",
        "\t'''\n",
        "\tcs_tmp=cs_i[(cs_i.resid == resid)]\n",
        "\tif (cs_tmp.shape[0] != 1):\n",
        "\t\treturn(dummy)\n",
        "\telse:\n",
        "\t\treturn(cs_tmp['resname'].values[0])\n",
        "\n",
        "def get_cs_features(cs_i, resid, neighbors, number_of_cs_types):\n",
        "\t'''\n",
        "\tThis function return chemical shifts and resnames for \n",
        "\tresidues (resid) and its neighbors\n",
        "\t'''\n",
        "\tcs=[]\n",
        "\tresnames=[]\n",
        "\tfor i in range(resid-neighbors, resid+neighbors+1):\n",
        "\t\tcs.append(get_cs_residues(cs_i, resid=i, number_of_cs_types=number_of_cs_types))\n",
        "\t\tresnames.append(get_resnames(cs_i, i))\n",
        "\treturn(resnames, np.array(cs))\n",
        "\n",
        "def write_out_resname(neighbors=1):\n",
        "\t''' \n",
        "\tHelper function that writes out the column names associated \n",
        "\tresnames for a given residue and its neighbors\n",
        "\t'''  \n",
        "\tcolnames = []\n",
        "\tfor i in range(1-neighbors-1, neighbors+1):  # ['R-2', 'R-1', 'R', 'R+1', 'R+2'] when neighbors = 2\n",
        "\t\tif i < 0: \n",
        "\t\t\tcolnames.append('R%s'%i)\n",
        "\t\telif i > 0: \n",
        "\t\t\tcolnames.append('R+%s'%i)\n",
        "\t\telse: \n",
        "\t\t\tcolnames.append('R')\n",
        "\treturn(colnames)    \n",
        "\n",
        "def get_cs_features_rna(cs, neighbors, number_of_cs_types):\n",
        "\t'''    \n",
        "\tThis function generates the complete required data frame an RNA    \n",
        "\t'''\n",
        "\tall_features = []\n",
        "\tall_resnames = []\n",
        "\tfor resid in cs['resid'].unique():\n",
        "\t\tresnames, features = get_cs_features(cs, resid, neighbors, number_of_cs_types)\n",
        "\t\tall_features.append(features.flatten())\n",
        "\t\tall_resnames.append(resnames)\n",
        "\n",
        "\tall_resnames = pd.DataFrame(all_resnames, dtype='object', columns = write_out_resname(neighbors))\n",
        "\tall_features = pd.DataFrame(all_features, dtype='object')\n",
        "\tinfo = pd.DataFrame(cs[RETAIN_NONAME].values, dtype='object', columns = RETAIN_NONAME)\n",
        "\treturn(pd.concat([info, all_resnames, all_features], axis=1))\n",
        "\n",
        "def get_cs_features_rna_all(cs, neighbors, number_of_cs_types):  \n",
        "\t'''    \n",
        "\tThis function generate a pandas dataframe containing training data for all RNAs\n",
        "\tEach row in the data frame should contain the class and chemical shifts for given residue and neighbors in a given RNA.\n",
        "\t'''  \n",
        "\tcs_new=pd.DataFrame()\n",
        " \tfor pdbid in cs['id'].unique()[0 :]:\n",
        "\t\ttmp=get_cs_features_rna(get_cs_all(cs, id=pdbid), neighbors, number_of_cs_types)\n",
        "\t\tcs_new=pd.concat([cs_new, tmp], axis=0)\n",
        "\treturn(cs_new)\n",
        " \n",
        "def one_hot_encode(df, hot_columns):\n",
        "  '''\n",
        "    This function generate one hot encodes a dataFrame\n",
        "    see: http://queirozf.com/entries/one-hot-encoding-a-feature-on-a-pandas-dataframe-an-example \n",
        "  '''\n",
        "  for hot_column in hot_columns:\n",
        "    # use pd.concat to join the new columns with your original dataframe\n",
        "    df = pd.concat([df, pd.get_dummies(df[hot_column], prefix=hot_column)],axis=1)\n",
        "    # now drop the original 'country' column (you don't need it anymore)\n",
        "    df.drop([hot_column],axis=1, inplace=True)\n",
        "  return(df)\n",
        "\n",
        "def balance_transformer(dataset):\n",
        "    '''\n",
        "      Copy of deepchem function for reweighting samples. \n",
        "      Deepchem version does not work.\n",
        "    '''\n",
        "    # Compute weighting factors from dataset.\n",
        "    y = dataset.y\n",
        "    w = dataset.w\n",
        "    # Ensure dataset is binary\n",
        "    np.testing.assert_allclose(sorted(np.unique(y)), np.array([0., 1.]))\n",
        "    weights = []\n",
        "    for ind, task in enumerate(dataset.get_task_names()):\n",
        "      task_w = w[:]\n",
        "      task_y = y[:]\n",
        "      # Remove labels with zero weights\n",
        "      task_y = task_y[task_w != 0]\n",
        "      num_positives = np.count_nonzero(task_y)\n",
        "      num_negatives = len(task_y) - num_positives\n",
        "      if num_positives > 0:\n",
        "        pos_weight = float(num_negatives) / num_positives\n",
        "      else:\n",
        "        pos_weight = 1\n",
        "      neg_weight = 1\n",
        "      weights.append((neg_weight, pos_weight)) \n",
        "    return(dc.data.NumpyDataset(X=dataset.X, y=dataset.y, w=np.where(y==1, pos_weight, neg_weight)))\n",
        "\n",
        "def get_data(neighbors, training = True, partial = None):\n",
        "  # load sasa data\n",
        "  if training:    \n",
        "    url=\"https://drive.google.com/uc?id=1Y3Imx-lTjGKCQAFqEKTbaMSzFARtwEFN&authuser=afrankz@umich.edu&usp=drive_fs\"\n",
        "  else:   \n",
        "    url=\"https://drive.google.com/uc?id=1jLcowU89y4o5Xmv_qBs3VgZre5ZFFYwG&authuser=afrankz@umich.edu&usp=drive_fs\"\n",
        "\n",
        "  s=requests.get(url).content\n",
        "  sasa=pd.read_csv(io.StringIO(s.decode('utf-8')), sep = \"\\s+\")\n",
        "  print(\"[INFO]: SASA loaded data\")\n",
        "  print(sasa.head())\n",
        "\n",
        "  # load cs data\n",
        "  url=\"https://drive.google.com/uc?id=1ApGAKHnzKUjri-f_sSPZwqK5N3Cr7gPq&authuser=afrankz@umich.edu&usp=drive_fs\" \n",
        "  s=requests.get(url).content\n",
        "  cs=pd.read_csv(io.StringIO(s.decode('utf-8')), sep = \" \")\n",
        "\n",
        "  # if partial = None, use both carbon and proton \n",
        "  # if partial = \"C\", use carbon chemical shifts only\n",
        "  # if partial = \"H\", use proton chemical shifts only\n",
        "  if partial == \"C\":\n",
        "    cs.drop(columns=['H1p','H2p','H3p','H4p','H2','H5','H5p','H5pp','H6','H8'],inplace=True)\n",
        "    number_of_cs_types = 9\n",
        "\n",
        "  if partial == \"H\":\n",
        "    cs.drop(columns=['C1p','C2p','C3p','C4p','C5p','C2','C5','C6','C8'],inplace=True)\n",
        "    number_of_cs_types = 10\n",
        "\n",
        "  if partial == None:\n",
        "    number_of_cs_types = 19\n",
        "  print(\"[INFO]: CS loaded data\")\n",
        "  #print(cs.head())\n",
        "\n",
        "  # load MC-Annotate\n",
        "  #url=\"https://drive.google.com/uc?id=1XV6zNRi6rnLNXpxRb6E9RGZ5ZPUnlI7O&authuser=kexin@umich.edu&usp=drive_fs\" # comments: fixed some numbering issues, but url did not work \n",
        "  mc_annotate = pd.read_csv(DIR_PATH+\"cs_structure.info\", delim_whitespace=True, header=0)\n",
        "  #url=\"https://drive.google.com/uc?id=1AY2tuleA7Q2yy5ID_YygIKPo2kR3EEH4&authuser=afrankz@umich.edu&usp=drive_fs\" # cs_structure.info, columns = id resname resid sasa pucker syn_anti astack nastack pair\n",
        "  #s=requests.get(url).content\n",
        "  #mc_anontate=pd.read_csv(io.StringIO(s.decode('utf-8')), sep = \" \")\n",
        "  #print(\"[INFO]: MC-Annotate loaded data\")\n",
        "  \n",
        "  # merge sasa and cs\n",
        "  data = pd.merge(cs, sasa, on=['id', 'resname', 'resid'])\n",
        "  # merge with mc-annotate structure\n",
        "  data = pd.merge(data, mc_annotate, on=['id', 'resname', 'resid'])  \n",
        "  #drop_names = ['sugar_puckering', 'pseudoknot', 'junk']\n",
        "  #data = data.drop(drop_names, axis=1)\n",
        "  print(\"[INFO]: merged SASA, CS, and MC-Annotate\")\n",
        "  #print(data.head())\n",
        "\n",
        "\t# prepare for testing\n",
        "  print(data.columns)\n",
        "  data_all = get_cs_features_rna_all(data, neighbors = neighbors, number_of_cs_types = number_of_cs_types)\n",
        "  print(\"[INFO]: Prepared final data set\")\n",
        "  #print(data_all.head())\n",
        "\n",
        "  data_all = one_hot_encode(data_all, write_out_resname(neighbors)) # only encode resnames (including neighbors)\n",
        "  print(\"[INFO]: One-hot encoded data\")\n",
        "  #print(data_all.head())\n",
        "  return(data_all)"
      ],
      "execution_count": 0,
      "outputs": []
    },
    {
      "cell_type": "markdown",
      "metadata": {
        "id": "aMpj5KncQ8Vj",
        "colab_type": "text"
      },
      "source": [
        "# Prepare input\n"
      ]
    },
    {
      "cell_type": "code",
      "metadata": {
        "id": "-Giwx74fCuE6",
        "colab_type": "code",
        "colab": {}
      },
      "source": [
        "################################################################\n",
        "## Prepare data\n",
        "################################################################\n",
        "neighbors = 3\n",
        "train = get_data(neighbors, training = True, partial=\"C\") # partial = \"C\" or \"H\" or None\n",
        "test = get_data(neighbors, training = False, partial=\"C\")"
      ],
      "execution_count": 0,
      "outputs": []
    },
    {
      "cell_type": "code",
      "metadata": {
        "id": "Bi7phfGEqmI3",
        "colab_type": "code",
        "colab": {}
      },
      "source": [
        "'''\n",
        "# Input checking\n",
        "# 1. Check if train RNAs and test RNAs have similar sequences\n",
        "train_RNAs = set(train.id.unique().tolist())\n",
        "test_RNAs = set(test.id.unique().tolist())\n",
        "train_RNAs.intersection(test_RNAs)\n",
        "\n",
        "# 2. Check numbering\n",
        "for rna in train.id.unique().tolist():\n",
        "  x = train[train['id']==rna]\n",
        "  if x.resid[0]!=1:\n",
        "    print(rna) \n",
        "  # 2L8H(fixed), 2LDL, 2MNC(fixed), 2MXL, 5UZT(fixed)\n",
        "'''"
      ],
      "execution_count": 0,
      "outputs": []
    },
    {
      "cell_type": "markdown",
      "metadata": {
        "id": "Pd5IXB3Xu6kd",
        "colab_type": "text"
      },
      "source": [
        "2N1Q vs 5WQ1?</br>\n",
        "Used vsearch to check 4 test RNAs, no highly similar sequences in train set"
      ]
    },
    {
      "cell_type": "code",
      "metadata": {
        "id": "PA8ZeGsG---i",
        "colab_type": "code",
        "colab": {}
      },
      "source": [
        "# Prepare training set\n",
        "sd_scale = 0.5\n",
        "targets = ['sasa', 'astack',  'nastack', 'pair', 'syn_anti']\n",
        "drop_names = ['id', 'resid', 'sasa-All-atoms', 'sasa-Total-Side', 'sasa-Main-Chain', 'sasa-Non-polar', 'sasa-All', 'sasa', 'astack',  'nastack', 'pair', 'syn_anti', 'pucker', 'class']\n",
        "tmp_trainX = train.drop(drop_names, axis=1)\n",
        "tmp_trainy = pd.DataFrame(train[targets].values, dtype = 'float', columns = targets)\n",
        "trainX = pd.DataFrame(tmp_trainX.values, dtype = 'float')\n",
        "trainy = tmp_trainy.values\n",
        "train_mean = [trainy[:, 0].mean()] # mean of sasa\n",
        "train_sd = [sd_scale*np.std(trainy[:, 0])]\n",
        "tmp = one_hot_encode(pd.DataFrame(train['pucker'].values, columns=['pucker']), ['pucker'])\n",
        "trainy_mix = np.vstack([ np.where(trainy[:, 0] <= train_mean[0]+train_sd[0], 0, 1),   # sasa threshold                 \n",
        "                        trainy[:, 1], # astack\n",
        "                        trainy[:, 2], # nastack\n",
        "                        trainy[:, 3], # pair\n",
        "                        trainy[:, 4], # syn_anti\n",
        "                        tmp['pucker_C2p_endo'].values,\n",
        "                        tmp['pucker_C3p_endo'].values,\n",
        "                        tmp['pucker_C2p_exo'].values,\n",
        "                        tmp['pucker_C3p_exo'].values,\n",
        "                        tmp['pucker_C1p_exo'].values,\n",
        "                        tmp['pucker_C4p_exo'].values\n",
        "                        ]).T \n",
        "w = np.ones(len(trainy[:, 0]))\n",
        "train_w = np.vstack([w, w, w, w, w, w, w, w, w, w, w]).T # weight is 1 for all cells\n",
        "train_dataset = dc.data.NumpyDataset(trainX, trainy_mix, train_w) # use deepchem here, target weight\n",
        "\n",
        "# Prepare test model\n",
        "retain = ['id', 'resid', 'sasa']\n",
        "tmp_testX = test.drop(drop_names, axis=1)\n",
        "tmp_testy = pd.DataFrame(test[targets].values, dtype = 'float', columns = targets)\n",
        "targets.append('pucker_C2p_endo')\n",
        "targets.append('pucker_C3p_endo')\n",
        "targets.append('pucker_C2p_exo')\n",
        "targets.append('pucker_C3p_exo')\n",
        "targets.append('pucker_C1p_exo')\n",
        "targets.append('pucker_C4p_exo')\n",
        "\n",
        "testX = pd.DataFrame(tmp_testX.values, dtype = 'float')\n",
        "testy = tmp_testy.values\n",
        "tmp = one_hot_encode(pd.DataFrame(test['pucker'].values, columns=['pucker']), ['pucker'])\n",
        "testy_mix = np.vstack([ np.where(testy[:, 0] <= train_mean[0]+train_sd[0], 0, 1),                         \n",
        "                        testy[:, 1],\n",
        "                        testy[:, 2],\n",
        "                        testy[:, 3],\n",
        "                        testy[:, 4],\n",
        "                        tmp['pucker_C2p_endo'].values,\n",
        "                        tmp['pucker_C3p_endo'].values,\n",
        "                        tmp['pucker_C2p_exo'].values,\n",
        "                        tmp['pucker_C3p_exo'].values,\n",
        "                        tmp['pucker_C1p_exo'].values,\n",
        "                        tmp['pucker_C4p_exo'].values                       \n",
        "                        ]).T\n",
        "w = np.ones(len(testy[:, 0]))\n",
        "test_w = np.vstack([w, w, w, w, w, w, w, w, w, w, w]).T\n",
        "test_dataset = dc.data.NumpyDataset(np.array(testX), np.array(testy_mix), test_w)\n",
        "\n",
        "info = pd.DataFrame(test[retain].values, dtype='object', columns = retain) # info is id, resid, and sasa\n",
        "actuals = pd.DataFrame(testy_mix, columns=targets)\n",
        "\n",
        "info.to_csv(DIR_PATH+'info.csv', sep = ' ',header=True,index=False)\n",
        "actuals.to_csv(DIR_PATH+'actuals.csv', sep = ' ',header=True,index=False)"
      ],
      "execution_count": 0,
      "outputs": []
    },
    {
      "cell_type": "code",
      "metadata": {
        "id": "YovP4kChIOQX",
        "colab_type": "code",
        "colab": {}
      },
      "source": [
        "pd.DataFrame({\"sasa\":trainy_mix[:, 0], \n",
        "             \"astack\":trainy_mix[:, 1], \n",
        "             \"nastack\":trainy_mix[:, 2], \n",
        "             \"pair\":trainy_mix[:, 3], \n",
        "             \"syn_anti\":trainy_mix[:, 4], \n",
        "             \"pucker_C2p_endo\":trainy_mix[:, 5],\n",
        "             \"pucker_C3p_endo\":trainy_mix[:, 6],\n",
        "             \"pucker_C2p_exo\":trainy_mix[:, 7],\n",
        "             \"pucker_C3p_exo\":trainy_mix[:, 8],\n",
        "             \"pucker_C1p_exo\":trainy_mix[:, 9],\n",
        "             \"pucker_C4p_exo\":trainy_mix[:, 10]}).to_csv(DIR_PATH+\"train_target_3.csv\", sep = \" \", index = False)\n",
        "\n",
        "trainX.to_csv(DIR_PATH+\"train_features_3_carbon.csv\", sep = \" \", index = False) # where are these files?\n",
        "\n",
        "pd.DataFrame({\"sasa\":testy_mix[:, 0], \n",
        "             \"astack\":testy_mix[:, 1], \n",
        "             \"nastack\":testy_mix[:, 2], \n",
        "             \"pair\":testy_mix[:, 3], \n",
        "             \"syn_anti\":testy_mix[:, 4], \n",
        "             \"pucker_C2p_endo\":testy_mix[:, 5],\n",
        "             \"pucker_C3p_endo\":testy_mix[:, 6],\n",
        "             \"pucker_C2p_exo\":testy_mix[:, 7],\n",
        "             \"pucker_C3p_exo\":testy_mix[:, 8],\n",
        "             \"pucker_C1p_exo\":testy_mix[:, 9],\n",
        "             \"pucker_C4p_exo\":testy_mix[:, 10]}).to_csv(DIR_PATH+\"test_target_3.csv\", sep = \" \", index = False)\n",
        "\n",
        "testX.to_csv(DIR_PATH+\"test_features_3_carbon.csv\", sep = \" \", index = False)"
      ],
      "execution_count": 0,
      "outputs": []
    },
    {
      "cell_type": "code",
      "metadata": {
        "id": "XsERHB29tEmU",
        "colab_type": "code",
        "colab": {}
      },
      "source": [
        "trainy = pd.DataFrame({\"sasa\":trainy_mix[:, 0], \n",
        "             \"astack\":trainy_mix[:, 1], \n",
        "             \"nastack\":trainy_mix[:, 2], \n",
        "             \"pair\":trainy_mix[:, 3], \n",
        "             \"syn_anti\":trainy_mix[:, 4], \n",
        "             \"pucker_C2p_endo\":trainy_mix[:, 5],\n",
        "             \"pucker_C3p_endo\":trainy_mix[:, 6],\n",
        "             \"pucker_C2p_exo\":trainy_mix[:, 7],\n",
        "             \"pucker_C3p_exo\":trainy_mix[:, 8],\n",
        "             \"pucker_C1p_exo\":trainy_mix[:, 9],\n",
        "             \"pucker_C4p_exo\":trainy_mix[:, 10]})\n",
        "testy = pd.DataFrame({\"sasa\":testy_mix[:, 0], \n",
        "             \"astack\":testy_mix[:, 1], \n",
        "             \"nastack\":testy_mix[:, 2], \n",
        "             \"pair\":testy_mix[:, 3], \n",
        "             \"syn_anti\":testy_mix[:, 4], \n",
        "             \"pucker_C2p_endo\":testy_mix[:, 5],\n",
        "             \"pucker_C3p_endo\":testy_mix[:, 6],\n",
        "             \"pucker_C2p_exo\":testy_mix[:, 7],\n",
        "             \"pucker_C3p_exo\":testy_mix[:, 8],\n",
        "             \"pucker_C1p_exo\":testy_mix[:, 9],\n",
        "             \"pucker_C4p_exo\":testy_mix[:, 10]})\n",
        "\n",
        "train_dist = trainy.apply(lambda x: x.value_counts(), axis=0)\n",
        "test_dist = testy.apply(lambda x: x.value_counts(), axis=0)\n",
        "train_dist.to_csv(DIR_PATH+\"train_targets_dist.csv\", header=True, index=True, sep = \" \")\n",
        "test_dist.to_csv(DIR_PATH+\"test_targets_dist.csv\", header=True, index=True, sep = \" \")"
      ],
      "execution_count": 0,
      "outputs": []
    },
    {
      "cell_type": "markdown",
      "metadata": {
        "colab_type": "text",
        "id": "KiCOYlnvabqr"
      },
      "source": [
        "# **Kexin's codes start from here...**"
      ]
    },
    {
      "cell_type": "markdown",
      "metadata": {
        "id": "BivHYzG2J3fq",
        "colab_type": "text"
      },
      "source": [
        "# Mount drive and load libraries"
      ]
    },
    {
      "cell_type": "code",
      "metadata": {
        "id": "NBtxFwIUiPll",
        "colab_type": "code",
        "outputId": "6f34e041-1eef-445c-e75e-aa8fbbf67035",
        "colab": {
          "base_uri": "https://localhost:8080/",
          "height": 35
        }
      },
      "source": [
        "from google.colab import drive\n",
        "drive.mount(\"/content/drive\", force_remount=True)\n",
        "DIR_PATH = 'drive/My Drive/CS-Annotate/'"
      ],
      "execution_count": 0,
      "outputs": [
        {
          "output_type": "stream",
          "text": [
            "Mounted at /content/drive\n"
          ],
          "name": "stdout"
        }
      ]
    },
    {
      "cell_type": "code",
      "metadata": {
        "id": "RmPfFLigzu5R",
        "colab_type": "code",
        "outputId": "509dd174-9741-4e62-878b-b7e0650c47fa",
        "colab": {
          "base_uri": "https://localhost:8080/",
          "height": 35
        }
      },
      "source": [
        "!pip install scikit-multilearn\n",
        "!apt-get -qq install -y python-rdkit librdkit1 rdkit-data\n",
        "!pip install -q joblib sklearn tensorflow pillow deepchem"
      ],
      "execution_count": 0,
      "outputs": [
        {
          "output_type": "stream",
          "text": [
            "Requirement already satisfied: scikit-multilearn in /usr/local/lib/python2.7/dist-packages (0.2.0)\n"
          ],
          "name": "stdout"
        }
      ]
    },
    {
      "cell_type": "code",
      "metadata": {
        "id": "AsJy4v8_zjkj",
        "colab_type": "code",
        "outputId": "7ecf511a-49e6-40de-991c-2247b865d7a1",
        "colab": {
          "base_uri": "https://localhost:8080/",
          "height": 219
        }
      },
      "source": [
        "# plot\n",
        "import seaborn as sns\n",
        "import matplotlib.pyplot as plt\n",
        "import matplotlib.cm as cm\n",
        "from string import ascii_letters\n",
        "\n",
        "# model selection \n",
        "from skmultilearn.problem_transform import BinaryRelevance\n",
        "from sklearn.metrics import accuracy_score,f1_score,balanced_accuracy_score,recall_score\n",
        "from sklearn.ensemble import RandomForestClassifier\n",
        "from sklearn.neural_network import MLPClassifier\n",
        "from sklearn.metrics import roc_curve, auc\n",
        "from sklearn.multioutput import MultiOutputClassifier\n",
        "from sklearn.multioutput import ClassifierChain # difference? yes, this does not support gridsearchcv, but supportes random state\n",
        "from sklearn.model_selection import train_test_split,KFold,cross_val_score,GridSearchCV,cross_validate\n",
        "from sklearn.multiclass import OneVsRestClassifier\n",
        "#from skmultilearn.problem_transform import ClassifierChain\n",
        "from sklearn.metrics import classification_report,confusion_matrix\n",
        "\n",
        "# deepchem\n",
        "import rdkit as rd\n",
        "import deepchem as dc\n",
        "import tensorflow as tf\n",
        "\n",
        "# other\n",
        "import numpy as np\n",
        "import pandas as pd \n",
        "import requests\n",
        "import io"
      ],
      "execution_count": 0,
      "outputs": [
        {
          "output_type": "display_data",
          "data": {
            "text/plain": [
              "<IPython.core.display.HTML object>"
            ],
            "text/html": [
              "<p style=\"color: red;\">\n",
              "The default version of TensorFlow in Colab will soon switch to TensorFlow 2.x.<br>\n",
              "We recommend you <a href=\"https://www.tensorflow.org/guide/migrate\" target=\"_blank\">upgrade</a> now \n",
              "or ensure your notebook will continue to use TensorFlow 1.x via the <code>%tensorflow_version 1.x</code> magic:\n",
              "<a href=\"https://colab.research.google.com/notebooks/tensorflow_version.ipynb\" target=\"_blank\">more info</a>.</p>\n"
            ]
          },
          "metadata": {
            "tags": []
          }
        },
        {
          "output_type": "stream",
          "text": [
            "WARNING: Logging before flag parsing goes to stderr.\n",
            "W0321 17:00:10.496474 140375581071232 lazy_loader.py:50] \n",
            "The TensorFlow contrib module will not be included in TensorFlow 2.0.\n",
            "For more information, please see:\n",
            "  * https://github.com/tensorflow/community/blob/master/rfcs/20180907-contrib-sunset.md\n",
            "  * https://github.com/tensorflow/addons\n",
            "  * https://github.com/tensorflow/io (for I/O related ops)\n",
            "If you depend on functionality not listed there, please file an issue.\n",
            "\n"
          ],
          "name": "stderr"
        }
      ]
    },
    {
      "cell_type": "markdown",
      "metadata": {
        "id": "vOuLcz4glfHn",
        "colab_type": "text"
      },
      "source": [
        "# Load data and preprocess"
      ]
    },
    {
      "cell_type": "code",
      "metadata": {
        "id": "qwTMo0pOiapL",
        "colab_type": "code",
        "colab": {}
      },
      "source": [
        " neighbors = 3\n",
        "# load train and test data\n",
        "X_train = pd.read_csv(DIR_PATH+\"train_features_\"+str(neighbors)+\".csv\",delim_whitespace=True,header=0)\n",
        "y_train = pd.read_csv(DIR_PATH+\"train_target_\"+str(neighbors)+\".csv\",delim_whitespace=True,header=0)\n",
        "X_test = pd.read_csv(DIR_PATH+\"test_features_\"+str(neighbors)+\".csv\",delim_whitespace=True,header=0)\n",
        "y_test = pd.read_csv(DIR_PATH+\"test_target_\"+str(neighbors)+\".csv\",delim_whitespace=True,header=0)\n",
        "targets = y_train.columns\n",
        "\n",
        "# convert to deepchem dataset\n",
        "w = np.ones(y_train.shape[0]) # number of samples in train\n",
        "train_w = np.vstack([w, w, w, w, w, w, w, w, w, w, w]).T # weight is 1 \n",
        "train_dataset = dc.data.NumpyDataset(X_train, y_train, train_w) # use deepchem here, some kind of weight\n",
        "\n",
        "w = np.ones(y_test.shape[0]) # number of samples in test\n",
        "test_w = np.vstack([w, w, w, w, w, w, w, w, w, w, w]).T # weight is 1 \n",
        "test_dataset = dc.data.NumpyDataset(X_test, y_test, test_w) # use deepchem here, some kind of weight\n",
        "\n",
        "# Scale\n",
        "transform_scaler = dc.trans.transformers.NormalizationTransformer(transform_X = True, transform_y = False, dataset=train_dataset)\n",
        "train_dataset_norm = transform_scaler.transform(train_dataset)\n",
        "test_dataset_norm = transform_scaler.transform(test_dataset)\n",
        "\n",
        "# Balance Dataset\n",
        "transform_balancer = dc.trans.transformers.BalancingTransformer(transform_w = True, dataset=train_dataset_norm) # this will work, inconsistent names before\n",
        "train_dataset_balanced = transform_balancer.transform(train_dataset_norm)\n",
        "\n",
        "n_features = train_dataset_balanced.X.shape[1]\n",
        "n_tasks = train_dataset_balanced.y.shape[1]"
      ],
      "execution_count": 0,
      "outputs": []
    },
    {
      "cell_type": "code",
      "metadata": {
        "id": "nA40nLvPjyfD",
        "colab_type": "code",
        "outputId": "aba05178-7df8-4b5a-c8ad-431ac2533e85",
        "colab": {
          "base_uri": "https://localhost:8080/",
          "height": 104
        }
      },
      "source": [
        "print(targets)\n",
        "print(test_dataset.X.shape)"
      ],
      "execution_count": 0,
      "outputs": [
        {
          "output_type": "stream",
          "text": [
            "Index([u'astack', u'nastack', u'pair', u'pucker_C1p_exo', u'pucker_C2p_endo',\n",
            "       u'pucker_C2p_exo', u'pucker_C3p_endo', u'pucker_C3p_exo',\n",
            "       u'pucker_C4p_exo', u'sasa', u'syn_anti'],\n",
            "      dtype='object')\n",
            "(284, 119)\n"
          ],
          "name": "stdout"
        }
      ]
    },
    {
      "cell_type": "markdown",
      "metadata": {
        "id": "u_dbqUrw3OKT",
        "colab_type": "text"
      },
      "source": [
        "### Correlation between targets"
      ]
    },
    {
      "cell_type": "code",
      "metadata": {
        "id": "beVwz7c93NVY",
        "colab_type": "code",
        "outputId": "27299009-8262-4662-b27a-64bcad5a9e22",
        "colab": {
          "base_uri": "https://localhost:8080/",
          "height": 701
        }
      },
      "source": [
        "corr = y_train.corr()\n",
        "\n",
        "sns.set(style=\"white\",font_scale=1.5)\n",
        "# Set up the matplotlib figure\n",
        "f, ax = plt.subplots(figsize=(11, 11))\n",
        "# Generate a custom diverging colormap\n",
        "cmap = sns.diverging_palette(220, 10, as_cmap=True)\n",
        "# Draw the heatmap with the mask and correct aspect ratio\n",
        "sns.heatmap(corr, cmap=cmap, center=0,\n",
        "            square=True, linewidths=.5, cbar_kws={\"shrink\": .5})"
      ],
      "execution_count": 0,
      "outputs": [
        {
          "output_type": "execute_result",
          "data": {
            "text/plain": [
              "<matplotlib.axes._subplots.AxesSubplot at 0x7f0a89966e10>"
            ]
          },
          "metadata": {
            "tags": []
          },
          "execution_count": 81
        },
        {
          "output_type": "display_data",
          "data": {
            "image/png": "[encoded data removed]",
            "text/plain": [
              "<Figure size 792x792 with 2 Axes>"
            ]
          },
          "metadata": {
            "tags": []
          }
        }
      ]
    },
    {
      "cell_type": "markdown",
      "metadata": {
        "id": "khon_JU1_a2I",
        "colab_type": "text"
      },
      "source": [
        "# Model selection - cross validation\n",
        "Notes: I used plotly to generate figure which is incompatible with python2, so I created another notebook for making figures."
      ]
    },
    {
      "cell_type": "markdown",
      "metadata": {
        "id": "bXdF6dfPnMb5",
        "colab_type": "text"
      },
      "source": [
        "## Method 1: K-Fold cross validation with MLP directly\n",
        "Most naive way. It should have similar performance as the OVR predictors in Method 2."
      ]
    },
    {
      "cell_type": "code",
      "metadata": {
        "id": "wUeGKPpghlbP",
        "colab_type": "code",
        "outputId": "d8390460-fd0f-4cad-b90b-6a11ab087c50",
        "colab": {
          "base_uri": "https://localhost:8080/",
          "height": 52
        }
      },
      "source": [
        "X = train_dataset_balanced.X\n",
        "y = train_dataset_balanced.y\n",
        "kf = KFold(n_splits=5, shuffle=True)\n",
        "kf.get_n_splits(X)\n",
        "\n",
        "print(kf)\n",
        "list_score = []  \n",
        "list_score_per_class= []\n",
        "\n",
        "for train_index, test_index in kf.split(X):\n",
        "  #print(\"TRAIN:\", train_index, \"TEST:\", test_index)\n",
        "  X_train, X_test = X[train_index], X[test_index]\n",
        "  y_train, y_test = y[train_index], y[test_index]\n",
        "  clf = MLPClassifier(max_iter=1000) # increase iterations to ensure convergence\n",
        "  clf.fit(X_train, y_train)\n",
        "  preds = clf.predict(X_test)\n",
        "  score = balanced_accuracy_score(y_test.flatten(),preds.flatten())\n",
        "  list_score.append(score)\n",
        "  list_temp =[]\n",
        "  for i in range(11):\n",
        "    score_per_class = balanced_accuracy_score(y_test[:,i], preds[:,i])\n",
        "    list_temp.append(score_per_class)\n",
        "  list_score_per_class.append(list_temp) \n",
        "print(list_score)\n",
        "del score, list_temp, score_per_class"
      ],
      "execution_count": 0,
      "outputs": [
        {
          "output_type": "stream",
          "text": [
            "KFold(n_splits=5, random_state=None, shuffle=True)\n",
            "[0.8169955890706462, 0.8068777771358817, 0.8193765287760094, 0.8167080689315496, 0.818642490197372]\n"
          ],
          "name": "stdout"
        }
      ]
    },
    {
      "cell_type": "code",
      "metadata": {
        "id": "OBKBn104A1hu",
        "colab_type": "code",
        "colab": {}
      },
      "source": [
        "list_score_per_class = pd.DataFrame(list_score_per_class)\n",
        "list_score_per_class=list_score_per_class.append(list_score_per_class.apply(np.mean, axis = 0),ignore_index=True)\n",
        "list_score_per_class.index=[\"cv1\",\"cv2\",\"cv3\",\"cv4\",\"cv5\",\"mean\"]\n",
        "list_score_per_class.columns = targets\n",
        "list_score_per_class.to_csv(DIR_PATH+\"MLP_cv_balanced_accuracy.csv\", index=True, sep=\" \", header=True)"
      ],
      "execution_count": 0,
      "outputs": []
    },
    {
      "cell_type": "code",
      "metadata": {
        "id": "KgYjxU7zH2hi",
        "colab_type": "code",
        "outputId": "5fd3329f-1987-4ac2-e952-4e3a07bdffe6",
        "colab": {
          "base_uri": "https://localhost:8080/",
          "height": 228
        }
      },
      "source": [
        "list_score_per_class"
      ],
      "execution_count": 0,
      "outputs": [
        {
          "output_type": "execute_result",
          "data": {
            "text/html": [
              "<div>\n",
              "<style scoped>\n",
              "    .dataframe tbody tr th:only-of-type {\n",
              "        vertical-align: middle;\n",
              "    }\n",
              "\n",
              "    .dataframe tbody tr th {\n",
              "        vertical-align: top;\n",
              "    }\n",
              "\n",
              "    .dataframe thead th {\n",
              "        text-align: right;\n",
              "    }\n",
              "</style>\n",
              "<table border=\"1\" class=\"dataframe\">\n",
              "  <thead>\n",
              "    <tr style=\"text-align: right;\">\n",
              "      <th></th>\n",
              "      <th>astack</th>\n",
              "      <th>nastack</th>\n",
              "      <th>pair</th>\n",
              "      <th>pucker_C1p_exo</th>\n",
              "      <th>pucker_C2p_endo</th>\n",
              "      <th>pucker_C2p_exo</th>\n",
              "      <th>pucker_C3p_endo</th>\n",
              "      <th>pucker_C3p_exo</th>\n",
              "      <th>pucker_C4p_exo</th>\n",
              "      <th>sasa</th>\n",
              "      <th>syn_anti</th>\n",
              "    </tr>\n",
              "  </thead>\n",
              "  <tbody>\n",
              "    <tr>\n",
              "      <th>cv1</th>\n",
              "      <td>0.683799</td>\n",
              "      <td>0.716598</td>\n",
              "      <td>0.707748</td>\n",
              "      <td>0.498148</td>\n",
              "      <td>0.595815</td>\n",
              "      <td>0.552394</td>\n",
              "      <td>0.612479</td>\n",
              "      <td>0.644444</td>\n",
              "      <td>0.543011</td>\n",
              "      <td>0.645094</td>\n",
              "      <td>0.666667</td>\n",
              "    </tr>\n",
              "    <tr>\n",
              "      <th>cv2</th>\n",
              "      <td>0.662925</td>\n",
              "      <td>0.649069</td>\n",
              "      <td>0.757041</td>\n",
              "      <td>0.494455</td>\n",
              "      <td>0.564355</td>\n",
              "      <td>0.548290</td>\n",
              "      <td>0.561234</td>\n",
              "      <td>0.532373</td>\n",
              "      <td>0.546703</td>\n",
              "      <td>0.694876</td>\n",
              "      <td>0.644444</td>\n",
              "    </tr>\n",
              "    <tr>\n",
              "      <th>cv3</th>\n",
              "      <td>0.668857</td>\n",
              "      <td>0.652770</td>\n",
              "      <td>0.773626</td>\n",
              "      <td>0.520031</td>\n",
              "      <td>0.662476</td>\n",
              "      <td>0.534343</td>\n",
              "      <td>0.627507</td>\n",
              "      <td>0.525857</td>\n",
              "      <td>0.492153</td>\n",
              "      <td>0.674575</td>\n",
              "      <td>0.803275</td>\n",
              "    </tr>\n",
              "    <tr>\n",
              "      <th>cv4</th>\n",
              "      <td>0.630799</td>\n",
              "      <td>0.715982</td>\n",
              "      <td>0.759496</td>\n",
              "      <td>0.591728</td>\n",
              "      <td>0.618761</td>\n",
              "      <td>0.550837</td>\n",
              "      <td>0.593605</td>\n",
              "      <td>0.594993</td>\n",
              "      <td>0.492062</td>\n",
              "      <td>0.648139</td>\n",
              "      <td>0.633576</td>\n",
              "    </tr>\n",
              "    <tr>\n",
              "      <th>cv5</th>\n",
              "      <td>0.651639</td>\n",
              "      <td>0.708260</td>\n",
              "      <td>0.747874</td>\n",
              "      <td>0.548145</td>\n",
              "      <td>0.695472</td>\n",
              "      <td>0.525301</td>\n",
              "      <td>0.619543</td>\n",
              "      <td>0.493506</td>\n",
              "      <td>0.566723</td>\n",
              "      <td>0.685783</td>\n",
              "      <td>0.791573</td>\n",
              "    </tr>\n",
              "    <tr>\n",
              "      <th>mean</th>\n",
              "      <td>0.659604</td>\n",
              "      <td>0.688536</td>\n",
              "      <td>0.749157</td>\n",
              "      <td>0.530501</td>\n",
              "      <td>0.627376</td>\n",
              "      <td>0.542233</td>\n",
              "      <td>0.602874</td>\n",
              "      <td>0.558235</td>\n",
              "      <td>0.528130</td>\n",
              "      <td>0.669693</td>\n",
              "      <td>0.707907</td>\n",
              "    </tr>\n",
              "  </tbody>\n",
              "</table>\n",
              "</div>"
            ],
            "text/plain": [
              "        astack   nastack      pair  ...  pucker_C4p_exo      sasa  syn_anti\n",
              "cv1   0.683799  0.716598  0.707748  ...        0.543011  0.645094  0.666667\n",
              "cv2   0.662925  0.649069  0.757041  ...        0.546703  0.694876  0.644444\n",
              "cv3   0.668857  0.652770  0.773626  ...        0.492153  0.674575  0.803275\n",
              "cv4   0.630799  0.715982  0.759496  ...        0.492062  0.648139  0.633576\n",
              "cv5   0.651639  0.708260  0.747874  ...        0.566723  0.685783  0.791573\n",
              "mean  0.659604  0.688536  0.749157  ...        0.528130  0.669693  0.707907\n",
              "\n",
              "[6 rows x 11 columns]"
            ]
          },
          "metadata": {
            "tags": []
          },
          "execution_count": 8
        }
      ]
    },
    {
      "cell_type": "markdown",
      "metadata": {
        "id": "lZZUpOxfYFq_",
        "colab_type": "text"
      },
      "source": [
        "## Method 2: ChainClassifier with KFold cv\n",
        "ChainClassifier uses predictions from previous tasks as input for subsequent training. Since we don't know the optimal ordering of tasks in advance, we could try random orderings and take the average prediction, to build an ensemble model."
      ]
    },
    {
      "cell_type": "code",
      "metadata": {
        "id": "qWRt17TVq04S",
        "colab_type": "code",
        "colab": {}
      },
      "source": [
        "def chain_classifier_ensemble(X_train, y_train, X_test, y_test, cv):\n",
        "  # Fit an independent MLP classification model for each class using the\n",
        "  # OneVsRestClassifier wrapper.\n",
        "  base_lr = MLPClassifier(max_iter=1000)\n",
        "  ovr = OneVsRestClassifier(base_lr)\n",
        "  ovr.fit(X_train, y_train)\n",
        "  Y_pred_ovr = ovr.predict_proba(X_test)\n",
        "  # save ovr output for future analysis\n",
        "  pd.DataFrame(Y_pred_ovr).to_csv(DIR_PATH+\"chain/pred_ovr_cv_\"+str(cv)+\".csv\",sep=\" \",header=False,index=False)\n",
        "\n",
        "  # save y_test\n",
        "  pd.DataFrame(y_test).to_csv(DIR_PATH+\"chain/y_test_cv_\"+str(cv)+\".csv\",sep=\" \",header=False,index=False)\n",
        "  \n",
        "  # Fit an ensemble of 10 MLP classifier chains and take the average prediction of all the chains.\n",
        "  chains = [ClassifierChain(base_lr, order='random', random_state=i) for i in range(10)]\n",
        "  for chain in chains:\n",
        "      chain.fit(X_train, y_train)\n",
        "  Y_pred_chains = np.array([chain.predict_proba(X_test) for chain in chains])\n",
        "  \n",
        "  # save Chain Classifier predictions\n",
        "  for i in range(10):\n",
        "    Y_pred_chain = Y_pred_chains[i]\n",
        "    print(\"Chain \"+str(i)+\" for CV \"+str(cv))\n",
        "    pd.DataFrame(Y_pred_chain).to_csv(DIR_PATH+\"chain/pred_chain_\"+str(i)+\"_cv_\"+str(cv)+\".csv\",sep=\" \",header=False,index=False)\n",
        "\n",
        "\n",
        "  Y_pred_ensemble = Y_pred_chains.mean(axis=0)\n",
        "  # save ensemble predictions\n",
        "  pd.DataFrame(Y_pred_ensemble).to_csv(DIR_PATH+\"chain/pred_ensemble_cv_\"+str(cv)+\".csv\",sep=\" \",header=False,index=False)"
      ],
      "execution_count": 0,
      "outputs": []
    },
    {
      "cell_type": "code",
      "metadata": {
        "id": "KS33X2Ttg6YE",
        "colab_type": "code",
        "outputId": "02d4740a-c8ce-4b37-f0c0-2d7a2ff24da8",
        "colab": {
          "base_uri": "https://localhost:8080/",
          "height": 898
        }
      },
      "source": [
        "# classifier chain with cv\n",
        "X = train_dataset_balanced.X\n",
        "y = train_dataset_balanced.y\n",
        "kf = KFold(n_splits=5,shuffle=True)\n",
        "kf.get_n_splits(X)\n",
        "\n",
        "print(kf)\n",
        "cv = 0\n",
        "for train_index, test_index in kf.split(X):\n",
        "    cv = cv+1\n",
        "    #print(\"TRAIN:\", train_index, \"TEST:\", test_index)\n",
        "    X_train, X_test = X[train_index], X[test_index]\n",
        "    y_train, y_test = y[train_index], y[test_index]\n",
        "    chain_classifier_ensemble(X_train, y_train, X_test, y_test, cv)"
      ],
      "execution_count": 0,
      "outputs": [
        {
          "output_type": "stream",
          "text": [
            "KFold(n_splits=5, random_state=None, shuffle=True)\n",
            "Chain 0 for CV 1\n",
            "Chain 1 for CV 1\n",
            "Chain 2 for CV 1\n",
            "Chain 3 for CV 1\n",
            "Chain 4 for CV 1\n",
            "Chain 5 for CV 1\n",
            "Chain 6 for CV 1\n",
            "Chain 7 for CV 1\n",
            "Chain 8 for CV 1\n",
            "Chain 9 for CV 1\n",
            "Chain 0 for CV 2\n",
            "Chain 1 for CV 2\n",
            "Chain 2 for CV 2\n",
            "Chain 3 for CV 2\n",
            "Chain 4 for CV 2\n",
            "Chain 5 for CV 2\n",
            "Chain 6 for CV 2\n",
            "Chain 7 for CV 2\n",
            "Chain 8 for CV 2\n",
            "Chain 9 for CV 2\n",
            "Chain 0 for CV 3\n",
            "Chain 1 for CV 3\n",
            "Chain 2 for CV 3\n",
            "Chain 3 for CV 3\n",
            "Chain 4 for CV 3\n",
            "Chain 5 for CV 3\n",
            "Chain 6 for CV 3\n",
            "Chain 7 for CV 3\n",
            "Chain 8 for CV 3\n",
            "Chain 9 for CV 3\n",
            "Chain 0 for CV 4\n",
            "Chain 1 for CV 4\n",
            "Chain 2 for CV 4\n",
            "Chain 3 for CV 4\n",
            "Chain 4 for CV 4\n",
            "Chain 5 for CV 4\n",
            "Chain 6 for CV 4\n",
            "Chain 7 for CV 4\n",
            "Chain 8 for CV 4\n",
            "Chain 9 for CV 4\n",
            "Chain 0 for CV 5\n",
            "Chain 1 for CV 5\n",
            "Chain 2 for CV 5\n",
            "Chain 3 for CV 5\n",
            "Chain 4 for CV 5\n",
            "Chain 5 for CV 5\n",
            "Chain 6 for CV 5\n",
            "Chain 7 for CV 5\n",
            "Chain 8 for CV 5\n",
            "Chain 9 for CV 5\n"
          ],
          "name": "stdout"
        }
      ]
    },
    {
      "cell_type": "markdown",
      "metadata": {
        "id": "8CjmsRnqkt-P",
        "colab_type": "text"
      },
      "source": [
        "## Method 3: Deepchem progressive neural networks"
      ]
    },
    {
      "cell_type": "markdown",
      "metadata": {
        "id": "Mhmt1tikq5Tj",
        "colab_type": "text"
      },
      "source": [
        "### Learning curve: how many epochs are enough?"
      ]
    },
    {
      "cell_type": "code",
      "metadata": {
        "id": "KcPT0cS1q8yC",
        "colab_type": "code",
        "colab": {}
      },
      "source": [
        "def train_val_score(dataset, epoch):\n",
        "  spliter = dc.splits.RandomSplitter()\n",
        "  train_dataset, valid_dataset = spliter.train_test_split(train_dataset_balanced)\n",
        "  print(\"Fit model....\")\n",
        "  # Fit trained model\n",
        "  # use same architecture as MLP classifiers: # of neurons = 100, lr = 0.001\n",
        "  model = dc.models.ProgressiveMultitaskClassifier(n_tasks=n_tasks,n_features=n_features,layer_sizes=[100],alpha_init_stddevs=0.04,learning_rate=0.001)\n",
        "  model.fit(train_dataset, nb_epoch=epoch)\n",
        "  print(\"Calculate scores....\")\n",
        "  # calculate validation score\n",
        "  preds = model.predict(valid_dataset)\n",
        "  score_val = accuracy_score(valid_dataset.y.flatten(), preds[:,:,1].flatten()>=0.5)\n",
        "  preds_train = model.predict(train_dataset)\n",
        "  score_train = accuracy_score(train_dataset.y.flatten(), preds_train[:,:,1].flatten()>=0.5)\n",
        "  return score_val, score_train"
      ],
      "execution_count": 0,
      "outputs": []
    },
    {
      "cell_type": "code",
      "metadata": {
        "id": "aUtZun10r_zF",
        "colab_type": "code",
        "outputId": "b6b67333-b298-499d-847c-a0c922358205",
        "colab": {
          "base_uri": "https://localhost:8080/",
          "height": 155
        }
      },
      "source": [
        "epochs = [10,25,50,100]\n",
        "#lrs = [0.00001,0.0001,0.001,0.01]\n",
        "val = []\n",
        "train = []\n",
        "for epoch in epochs:\n",
        "  val_tmp, train_tmp = train_val_score(train_dataset_balanced, epoch)\n",
        "  val.append(val_tmp)\n",
        "  train.append(train_tmp)"
      ],
      "execution_count": 0,
      "outputs": [
        {
          "output_type": "stream",
          "text": [
            "Fit model....\n",
            "Calculate scores....\n",
            "Fit model....\n",
            "Calculate scores....\n",
            "Fit model....\n",
            "Calculate scores....\n",
            "Fit model....\n",
            "Calculate scores....\n"
          ],
          "name": "stdout"
        }
      ]
    },
    {
      "cell_type": "code",
      "metadata": {
        "id": "-UnifX0ttqee",
        "colab_type": "code",
        "outputId": "c4d830d6-18d9-4eca-ba8d-3c06cfeef16e",
        "colab": {
          "base_uri": "https://localhost:8080/",
          "height": 304
        }
      },
      "source": [
        "fig, ax = plt.subplots()\n",
        "ax.plot(epochs, train, label='train')\n",
        "ax.plot(epochs, val, label='val')\n",
        "legend = ax.legend(loc='upper left', shadow=True, fontsize='large')\n",
        "plt.xlabel('epochs')\n",
        "plt.ylabel('balanced accuracy')\n",
        "plt.show()"
      ],
      "execution_count": 0,
      "outputs": [
        {
          "output_type": "display_data",
          "data": {
            "image/png": "[encoded data removed]",
            "text/plain": [
              "<Figure size 432x288 with 1 Axes>"
            ]
          },
          "metadata": {
            "tags": []
          }
        }
      ]
    },
    {
      "cell_type": "markdown",
      "metadata": {
        "id": "wNjmBccLjn02",
        "colab_type": "text"
      },
      "source": [
        "50 epochs should be enough. "
      ]
    },
    {
      "cell_type": "markdown",
      "metadata": {
        "id": "FqYYrDCKzSt_",
        "colab_type": "text"
      },
      "source": [
        "### Deepchem cv: K-Fold "
      ]
    },
    {
      "cell_type": "code",
      "metadata": {
        "id": "FQd9nz6FKn0J",
        "colab_type": "code",
        "outputId": "c008986d-d4e9-4284-dd6f-3c0132bfc1a1",
        "colab": {
          "base_uri": "https://localhost:8080/",
          "height": 35
        }
      },
      "source": [
        "# KFold \n",
        "X = train_dataset_balanced.X\n",
        "y = train_dataset_balanced.y\n",
        "w = train_dataset_balanced.w\n",
        "kf = KFold(n_splits=5,shuffle=True)\n",
        "kf.get_n_splits(X)\n",
        "\n",
        "print(kf)\n",
        "sensitivity_score = []\n",
        "specificity_score = []\n",
        "sensitivity_per_class = []\n",
        "specificity_per_class = []\n",
        "balanced_accuracy = []\n",
        "balanced_accuracy_per_class= []\n",
        "\n",
        "for train_index, test_index in kf.split(X):\n",
        "  #print(\"TRAIN:\", train_index, \"TEST:\", test_index)\n",
        "  \n",
        "  w_train, w_test = w[train_index], w[test_index]\n",
        "  X_train, X_test = X[train_index], X[test_index]\n",
        "  y_train, y_test = y[train_index], y[test_index]\n",
        "  \n",
        "  cv_train_dataset = dc.data.NumpyDataset(X_train, y_train, w_train)\n",
        "  cv_val_dataset = dc.data.NumpyDataset(X_test, y_test, w_test)\n",
        "  model = dc.models.ProgressiveMultitaskClassifier(n_tasks=n_tasks,n_features=n_features,layer_sizes=[100],alpha_init_stddevs=0.04,learning_rate=0.001)\n",
        "  model.fit(cv_train_dataset, nb_epoch=50)\n",
        "  preds = model.predict(cv_val_dataset)\n",
        "\n",
        "  # define 0 as positive class and 1 as negative class\n",
        "  score = classification_report(y_test.flatten(),preds[:, :, 1].flatten()>=0.5,output_dict=True)\n",
        "  sensitivity_score.append(score['0.0']['recall']) # sensitivity is recall of the positive class\n",
        "  specificity_score.append(score['1.0']['recall']) # specificity is recall of the negative class\n",
        "  balanced_accuracy.append(balanced_accuracy_score(y_test.flatten(),preds[:, :, 1].flatten()>=0.5))\n",
        "  balanced_acc_temp =[]\n",
        "  score_temp = []\n",
        "  specificity_temp = []\n",
        "  sensitivity_temp = []\n",
        "  for i in range(11):\n",
        "    balanced_acc_temp.append(balanced_accuracy_score(y_test[:,i], preds[:,i,1]>=0.5))\n",
        "    score_temp = classification_report(y_test[:,i], preds[:,i,1]>=0.5,output_dict=True)\n",
        "    specificity_temp.append(score_temp['0.0']['recall'])\n",
        "    sensitivity_temp.append(score_temp['1.0']['recall'])\n",
        "  balanced_accuracy_per_class.append(balanced_acc_temp) \n",
        "  specificity_per_class.append(specificity_temp) \n",
        "  sensitivity_per_class.append(sensitivity_temp) \n",
        "\n",
        "del specificity_temp,sensitivity_temp,score_temp,balanced_acc_temp"
      ],
      "execution_count": 0,
      "outputs": [
        {
          "output_type": "stream",
          "text": [
            "KFold(n_splits=5, random_state=None, shuffle=True)\n"
          ],
          "name": "stdout"
        }
      ]
    },
    {
      "cell_type": "code",
      "metadata": {
        "id": "Quvo70a8BMqf",
        "colab_type": "code",
        "colab": {}
      },
      "source": [
        "balanced_accuracy_per_class = pd.DataFrame(balanced_accuracy_per_class)\n",
        "balanced_accuracy_per_class=balanced_accuracy_per_class.append(balanced_accuracy_per_class.apply(np.mean, axis = 0),ignore_index=True)\n",
        "balanced_accuracy_per_class.index=[\"cv1\",\"cv2\",\"cv3\",\"cv4\",\"cv5\",\"mean\"]\n",
        "balanced_accuracy_per_class.columns = targets\n",
        "balanced_accuracy_per_class.to_csv(DIR_PATH+\"deepchem_cv_neighbor_\"+str(neighbors)+\".csv\",header=True,index=True,sep=\" \")"
      ],
      "execution_count": 0,
      "outputs": []
    },
    {
      "cell_type": "markdown",
      "metadata": {
        "id": "7LmubqK9zYwH",
        "colab_type": "text"
      },
      "source": [
        "### Deepchem cv: hyperparameter tuning\n",
        "I kept same model architecture as in MLPClassifiers. But this is something that we can explore."
      ]
    },
    {
      "cell_type": "code",
      "metadata": {
        "id": "I3jeCDbCfH4v",
        "colab_type": "code",
        "outputId": "76983b49-33bc-4334-d4b0-4a45d38ec9c9",
        "colab": {
          "base_uri": "https://localhost:8080/",
          "height": 1000
        }
      },
      "source": [
        "# DeepChem hyperparameter tuning\n",
        "splitter = dc.splits.RandomSplitter()\n",
        "train_dataset, valid_dataset = splitter.train_test_split(train_dataset_balanced)\n",
        "\n",
        "params_dict = {'alpha_init_stddevs':[0.04],\n",
        "               'layer_sizes':[[20],[50],[100],[150],[200]],\n",
        "               'weight_init_stddevs':[0.02],\n",
        "               'bias_init_consts':[1.0],\n",
        "               'weight_decay_penalty':[0.0],\n",
        "               'weight_decay_penalty_type':[\"l2\"],\n",
        "               'dropouts':[0.5],\n",
        "               'activation_fns':[tf.nn.relu],\n",
        "               'learning_rate':[0.001,0.0001],\n",
        "               'nb_epoch':[50,100]\n",
        "              }\n",
        "\n",
        "\n",
        "def model_builder(model_params, model_dir):\n",
        "  model = dc.models.ProgressiveMultitaskClassifier(\n",
        "    n_features=n_features, n_tasks=n_tasks, **model_params)\n",
        "  return model\n",
        "\n",
        "metric = dc.metrics.Metric(dc.metrics.roc_auc_score, np.mean, mode=\"classification\")\n",
        "optimizer = dc.hyper.HyperparamOpt(model_builder)\n",
        "best_dnn, best_hyperparams, all_results = optimizer.hyperparam_search(params_dict, train_dataset, valid_dataset, [], metric)"
      ],
      "execution_count": 0,
      "outputs": [
        {
          "output_type": "stream",
          "text": [
            "W0317 22:03:33.476900 139626909308800 module_wrapper.py:139] From /usr/local/lib/python2.7/dist-packages/deepchem/models/tensorgraph/progressive_multitask.py:208: The name tf.truncated_normal is deprecated. Please use tf.random.truncated_normal instead.\n",
            "\n",
            "W0317 22:03:33.540961 139626909308800 module_wrapper.py:139] From /usr/local/lib/python2.7/dist-packages/deepchem/models/tensorgraph/tensor_graph.py:715: The name tf.placeholder is deprecated. Please use tf.compat.v1.placeholder instead.\n",
            "\n",
            "W0317 22:03:33.547112 139626909308800 module_wrapper.py:139] From /usr/local/lib/python2.7/dist-packages/deepchem/models/tensorgraph/layers.py:2464: The name tf.FIFOQueue is deprecated. Please use tf.queue.FIFOQueue instead.\n",
            "\n",
            "W0317 22:03:33.552526 139626909308800 module_wrapper.py:139] From /usr/local/lib/python2.7/dist-packages/deepchem/models/tensorgraph/layers.py:1216: The name tf.placeholder_with_default is deprecated. Please use tf.compat.v1.placeholder_with_default instead.\n",
            "\n",
            "W0317 22:03:33.566999 139626909308800 deprecation.py:506] From /tensorflow-1.15.0/python2.7/tensorflow_core/python/ops/resource_variable_ops.py:1630: calling __init__ (from tensorflow.python.ops.resource_variable_ops) with constraint is deprecated and will be removed in a future version.\n",
            "Instructions for updating:\n",
            "If using Keras pass *_constraint arguments to layers.\n"
          ],
          "name": "stderr"
        },
        {
          "output_type": "stream",
          "text": [
            "Fitting model 1/20\n",
            "hyperparameters: {'activation_fns': <function relu at 0x7efd0ae1f3d0>, 'weight_decay_penalty': 0.0, 'layer_sizes': [20], 'nb_epoch': 50, 'weight_decay_penalty_type': 'l2', 'alpha_init_stddevs': 0.04, 'bias_init_consts': 1.0, 'weight_init_stddevs': 0.02, 'dropouts': 0.5, 'learning_rate': 0.001}\n"
          ],
          "name": "stdout"
        },
        {
          "output_type": "stream",
          "text": [
            "W0317 22:03:34.244880 139626909308800 module_wrapper.py:139] From /usr/local/lib/python2.7/dist-packages/deepchem/models/tensorgraph/tensor_graph.py:728: The name tf.Session is deprecated. Please use tf.compat.v1.Session instead.\n",
            "\n",
            "W0317 22:03:34.376776 139626909308800 module_wrapper.py:139] From /usr/local/lib/python2.7/dist-packages/deepchem/models/tensorgraph/optimizers.py:76: The name tf.train.AdamOptimizer is deprecated. Please use tf.compat.v1.train.AdamOptimizer instead.\n",
            "\n",
            "W0317 22:03:35.982717 139626909308800 module_wrapper.py:139] From /usr/local/lib/python2.7/dist-packages/deepchem/models/tensorgraph/tensor_graph.py:1013: The name tf.get_collection is deprecated. Please use tf.compat.v1.get_collection instead.\n",
            "\n",
            "W0317 22:03:35.983896 139626909308800 module_wrapper.py:139] From /usr/local/lib/python2.7/dist-packages/deepchem/models/tensorgraph/tensor_graph.py:1013: The name tf.GraphKeys is deprecated. Please use tf.compat.v1.GraphKeys instead.\n",
            "\n",
            "W0317 22:03:35.992635 139626909308800 module_wrapper.py:139] From /usr/local/lib/python2.7/dist-packages/deepchem/models/tensorgraph/tensor_graph.py:739: The name tf.global_variables_initializer is deprecated. Please use tf.compat.v1.global_variables_initializer instead.\n",
            "\n",
            "W0317 22:03:36.480842 139626909308800 module_wrapper.py:139] From /usr/local/lib/python2.7/dist-packages/deepchem/models/tensorgraph/tensor_graph.py:749: The name tf.summary.scalar is deprecated. Please use tf.compat.v1.summary.scalar instead.\n",
            "\n"
          ],
          "name": "stderr"
        },
        {
          "output_type": "stream",
          "text": [
            "computed_metrics: [0.7702600094399639, 0.8592654892066163, 0.8925531166455608, 0.8732961586121437, 0.8315544608648058, 0.6233628184199538, 0.748173374613003, 0.7658796296296295, 0.5879043115054023, 0.7893236714975845, 0.9125702247191011]\n",
            "Model 1/20, Metric mean-roc_auc_score, Validation set 0: 0.786740\n",
            "\tbest_validation_score so far: 0.786740\n",
            "Fitting model 2/20\n",
            "hyperparameters: {'activation_fns': <function relu at 0x7efd0ae1f3d0>, 'weight_decay_penalty': 0.0, 'layer_sizes': [20], 'nb_epoch': 50, 'weight_decay_penalty_type': 'l2', 'alpha_init_stddevs': 0.04, 'bias_init_consts': 1.0, 'weight_init_stddevs': 0.02, 'dropouts': 0.5, 'learning_rate': 0.0001}\n",
            "computed_metrics: [0.7617229986250487, 0.8385548079618728, 0.8737688194737583, 0.8901796778190831, 0.8072660098522166, 0.6082912569758172, 0.7260216718266255, 0.7438888888888889, 0.5704373640788429, 0.7603864734299517, 0.9073033707865168]\n",
            "Model 2/20, Metric mean-roc_auc_score, Validation set 1: 0.771620\n",
            "\tbest_validation_score so far: 0.786740\n",
            "Fitting model 3/20\n",
            "hyperparameters: {'activation_fns': <function relu at 0x7efd0ae1f3d0>, 'weight_decay_penalty': 0.0, 'layer_sizes': [20], 'nb_epoch': 100, 'weight_decay_penalty_type': 'l2', 'alpha_init_stddevs': 0.04, 'bias_init_consts': 1.0, 'weight_init_stddevs': 0.02, 'dropouts': 0.5, 'learning_rate': 0.001}\n",
            "computed_metrics: [0.7778119805454657, 0.860421923184749, 0.8945581820740116, 0.8595105328376704, 0.8473590585659552, 0.6079116206674007, 0.7479102167182661, 0.78375, 0.6014014981531983, 0.7959178743961353, 0.9029143258426966]\n",
            "Model 3/20, Metric mean-roc_auc_score, Validation set 2: 0.789042\n",
            "\tbest_validation_score so far: 0.789042\n",
            "Fitting model 4/20\n",
            "hyperparameters: {'activation_fns': <function relu at 0x7efd0ae1f3d0>, 'weight_decay_penalty': 0.0, 'layer_sizes': [20], 'nb_epoch': 100, 'weight_decay_penalty_type': 'l2', 'alpha_init_stddevs': 0.04, 'bias_init_consts': 1.0, 'weight_init_stddevs': 0.02, 'dropouts': 0.5, 'learning_rate': 0.0001}\n",
            "computed_metrics: [0.7637546430257136, 0.8459139332772638, 0.8787287181651893, 0.8969950433705081, 0.8063081554460865, 0.620363691583463, 0.7341795665634675, 0.7522222222222223, 0.5738202906555283, 0.7679227053140096, 0.9119850187265918]\n",
            "Model 4/20, Metric mean-roc_auc_score, Validation set 3: 0.777472\n",
            "\tbest_validation_score so far: 0.789042\n",
            "Fitting model 5/20\n",
            "hyperparameters: {'activation_fns': <function relu at 0x7efd0ae1f3d0>, 'weight_decay_penalty': 0.0, 'layer_sizes': [50], 'nb_epoch': 50, 'weight_decay_penalty_type': 'l2', 'alpha_init_stddevs': 0.04, 'bias_init_consts': 1.0, 'weight_init_stddevs': 0.02, 'dropouts': 0.5, 'learning_rate': 0.001}\n",
            "computed_metrics: [0.7724353054649182, 0.8607723577235773, 0.8935028844800901, 0.8763940520446096, 0.8462643678160919, 0.6149348923731066, 0.7486068111455109, 0.7719907407407407, 0.5864199661707343, 0.7852657004830916, 0.897501170411985]\n",
            "Model 5/20, Metric mean-roc_auc_score, Validation set 4: 0.786735\n",
            "\tbest_validation_score so far: 0.789042\n",
            "Fitting model 6/20\n",
            "hyperparameters: {'activation_fns': <function relu at 0x7efd0ae1f3d0>, 'weight_decay_penalty': 0.0, 'layer_sizes': [50], 'nb_epoch': 50, 'weight_decay_penalty_type': 'l2', 'alpha_init_stddevs': 0.04, 'bias_init_consts': 1.0, 'weight_init_stddevs': 0.02, 'dropouts': 0.5, 'learning_rate': 0.0001}\n",
            "computed_metrics: [0.7606353506125716, 0.8403069806560135, 0.8763191219924018, 0.8887856257744733, 0.8021346469622331, 0.6145932196955317, 0.7263777089783282, 0.7450000000000001, 0.5714039145293245, 0.7643719806763285, 0.9066011235955056]\n",
            "Model 6/20, Metric mean-roc_auc_score, Validation set 5: 0.772412\n",
            "\tbest_validation_score so far: 0.789042\n",
            "Fitting model 7/20\n",
            "hyperparameters: {'activation_fns': <function relu at 0x7efd0ae1f3d0>, 'weight_decay_penalty': 0.0, 'layer_sizes': [50], 'nb_epoch': 100, 'weight_decay_penalty_type': 'l2', 'alpha_init_stddevs': 0.04, 'bias_init_consts': 1.0, 'weight_init_stddevs': 0.02, 'dropouts': 0.5, 'learning_rate': 0.001}\n",
            "computed_metrics: [0.7811159679041229, 0.8659587888982337, 0.8930104122695934, 0.8531598513011152, 0.8461959496442255, 0.620591473368513, 0.7515479876160991, 0.7692592592592593, 0.5958093134039835, 0.8031642512077295, 0.8918539325842696]\n",
            "Model 7/20, Metric mean-roc_auc_score, Validation set 6: 0.788333\n",
            "\tbest_validation_score so far: 0.789042\n",
            "Fitting model 8/20\n",
            "hyperparameters: {'activation_fns': <function relu at 0x7efd0ae1f3d0>, 'weight_decay_penalty': 0.0, 'layer_sizes': [50], 'nb_epoch': 100, 'weight_decay_penalty_type': 'l2', 'alpha_init_stddevs': 0.04, 'bias_init_consts': 1.0, 'weight_init_stddevs': 0.02, 'dropouts': 0.5, 'learning_rate': 0.0001}\n",
            "computed_metrics: [0.7622770834615937, 0.8447574992991309, 0.8820529055860419, 0.8962205700123915, 0.8106185002736728, 0.6181238373638055, 0.73, 0.75, 0.5847285028823914, 0.7695169082125604, 0.9075374531835206]\n",
            "Model 8/20, Metric mean-roc_auc_score, Validation set 7: 0.777803\n",
            "\tbest_validation_score so far: 0.789042\n",
            "Fitting model 9/20\n",
            "hyperparameters: {'activation_fns': <function relu at 0x7efd0ae1f3d0>, 'weight_decay_penalty': 0.0, 'layer_sizes': [100], 'nb_epoch': 50, 'weight_decay_penalty_type': 'l2', 'alpha_init_stddevs': 0.04, 'bias_init_consts': 1.0, 'weight_init_stddevs': 0.02, 'dropouts': 0.5, 'learning_rate': 0.001}\n",
            "computed_metrics: [0.7735845184592337, 0.8601152929632745, 0.8971612494723511, 0.864002478314746, 0.85727969348659, 0.6264758361489693, 0.7487925696594427, 0.7648148148148148, 0.5876281542338362, 0.7928502415458938, 0.8987301029962547]\n",
            "Model 9/20, Metric mean-roc_auc_score, Validation set 8: 0.788312\n",
            "\tbest_validation_score so far: 0.789042\n",
            "Fitting model 10/20\n",
            "hyperparameters: {'activation_fns': <function relu at 0x7efd0ae1f3d0>, 'weight_decay_penalty': 0.0, 'layer_sizes': [100], 'nb_epoch': 50, 'weight_decay_penalty_type': 'l2', 'alpha_init_stddevs': 0.04, 'bias_init_consts': 1.0, 'weight_init_stddevs': 0.02, 'dropouts': 0.5, 'learning_rate': 0.0001}\n",
            "computed_metrics: [0.7641855978985819, 0.8418839360807401, 0.875721120022513, 0.8929677819083023, 0.8071291735084838, 0.6172127102236058, 0.7285913312693499, 0.7466666666666667, 0.5761676274638408, 0.7659903381642512, 0.9084737827715356]\n",
            "Model 10/20, Metric mean-roc_auc_score, Validation set 9: 0.774999\n",
            "\tbest_validation_score so far: 0.789042\n",
            "Fitting model 11/20\n",
            "hyperparameters: {'activation_fns': <function relu at 0x7efd0ae1f3d0>, 'weight_decay_penalty': 0.0, 'layer_sizes': [100], 'nb_epoch': 100, 'weight_decay_penalty_type': 'l2', 'alpha_init_stddevs': 0.04, 'bias_init_consts': 1.0, 'weight_init_stddevs': 0.02, 'dropouts': 0.5, 'learning_rate': 0.001}\n",
            "computed_metrics: [0.78183422602557, 0.8705757639472945, 0.9073448712536936, 0.8328686493184635, 0.8598795840175151, 0.6193386735507385, 0.7485448916408668, 0.7725925925925925, 0.6119645137906038, 0.8014975845410628, 0.8842169943820224]\n",
            "Model 11/20, Metric mean-roc_auc_score, Validation set 10: 0.790060\n",
            "\tbest_validation_score so far: 0.790060\n",
            "Fitting model 12/20\n",
            "hyperparameters: {'activation_fns': <function relu at 0x7efd0ae1f3d0>, 'weight_decay_penalty': 0.0, 'layer_sizes': [100], 'nb_epoch': 100, 'weight_decay_penalty_type': 'l2', 'alpha_init_stddevs': 0.04, 'bias_init_consts': 1.0, 'weight_init_stddevs': 0.02, 'dropouts': 0.5, 'learning_rate': 0.0001}\n",
            "computed_metrics: [0.765457940856574, 0.848892626857303, 0.8852539749542705, 0.9013320941759603, 0.8254652435686918, 0.6169469648077142, 0.7364860681114551, 0.7527777777777778, 0.5861438088991682, 0.7676811594202899, 0.9029728464419475]\n",
            "Model 12/20, Metric mean-roc_auc_score, Validation set 11: 0.780856\n",
            "\tbest_validation_score so far: 0.790060\n",
            "Fitting model 13/20\n",
            "hyperparameters: {'activation_fns': <function relu at 0x7efd0ae1f3d0>, 'weight_decay_penalty': 0.0, 'layer_sizes': [150], 'nb_epoch': 50, 'weight_decay_penalty_type': 'l2', 'alpha_init_stddevs': 0.04, 'bias_init_consts': 1.0, 'weight_init_stddevs': 0.02, 'dropouts': 0.5, 'learning_rate': 0.001}\n",
            "computed_metrics: [0.7701779227975127, 0.8634356602186712, 0.8998170817503869, 0.8635377942998761, 0.8584428024083197, 0.628374017691052, 0.7554953560371518, 0.7654166666666666, 0.5963271082881701, 0.7896135265700484, 0.9062792602996255]\n",
            "Model 13/20, Metric mean-roc_auc_score, Validation set 12: 0.790629\n",
            "\tbest_validation_score so far: 0.790629\n",
            "Fitting model 14/20\n",
            "hyperparameters: {'activation_fns': <function relu at 0x7efd0ae1f3d0>, 'weight_decay_penalty': 0.0, 'layer_sizes': [150], 'nb_epoch': 50, 'weight_decay_penalty_type': 'l2', 'alpha_init_stddevs': 0.04, 'bias_init_consts': 1.0, 'weight_init_stddevs': 0.02, 'dropouts': 0.5, 'learning_rate': 0.0001}\n",
            "computed_metrics: [0.7621744751585298, 0.8468951499859825, 0.8773568312930913, 0.8946716232961587, 0.8054187192118226, 0.6147071105880566, 0.731594427244582, 0.7416666666666667, 0.5800683489247125, 0.7643961352657004, 0.903441011235955]\n",
            "Model 14/20, Metric mean-roc_auc_score, Validation set 13: 0.774763\n",
            "\tbest_validation_score so far: 0.790629\n",
            "Fitting model 15/20\n",
            "hyperparameters: {'activation_fns': <function relu at 0x7efd0ae1f3d0>, 'weight_decay_penalty': 0.0, 'layer_sizes': [150], 'nb_epoch': 100, 'weight_decay_penalty_type': 'l2', 'alpha_init_stddevs': 0.04, 'bias_init_consts': 1.0, 'weight_init_stddevs': 0.02, 'dropouts': 0.5, 'learning_rate': 0.001}\n",
            "computed_metrics: [0.7855691682570953, 0.875026282590412, 0.9047593921485859, 0.8475836431226766, 0.865216201423098, 0.6052921301393266, 0.7467027863777089, 0.7783333333333333, 0.605198660637233, 0.8002415458937198, 0.8762581928838951]\n",
            "Model 15/20, Metric mean-roc_auc_score, Validation set 14: 0.790016\n",
            "\tbest_validation_score so far: 0.790629\n",
            "Fitting model 16/20\n",
            "hyperparameters: {'activation_fns': <function relu at 0x7efd0ae1f3d0>, 'weight_decay_penalty': 0.0, 'layer_sizes': [150], 'nb_epoch': 100, 'weight_decay_penalty_type': 'l2', 'alpha_init_stddevs': 0.04, 'bias_init_consts': 1.0, 'weight_init_stddevs': 0.02, 'dropouts': 0.5, 'learning_rate': 0.0001}\n",
            "computed_metrics: [0.7660735906749574, 0.847210541070928, 0.8862389193752638, 0.8929677819083024, 0.8273125342090859, 0.6221100186021791, 0.7325696594427245, 0.7537037037037038, 0.5860747695812766, 0.76756038647343, 0.8994616104868913]\n",
            "Model 16/20, Metric mean-roc_auc_score, Validation set 15: 0.780117\n",
            "\tbest_validation_score so far: 0.790629\n",
            "Fitting model 17/20\n",
            "hyperparameters: {'activation_fns': <function relu at 0x7efd0ae1f3d0>, 'weight_decay_penalty': 0.0, 'layer_sizes': [200], 'nb_epoch': 50, 'weight_decay_penalty_type': 'l2', 'alpha_init_stddevs': 0.04, 'bias_init_consts': 1.0, 'weight_init_stddevs': 0.02, 'dropouts': 0.5, 'learning_rate': 0.001}\n",
            "computed_metrics: [0.7775862422787252, 0.8630151387720775, 0.8966160123821584, 0.8604399008674102, 0.8604269293924466, 0.6254887817470862, 0.7513312693498453, 0.7667592592592591, 0.6018502537194932, 0.7917874396135265, 0.8904201779026217]\n",
            "Model 17/20, Metric mean-roc_auc_score, Validation set 16: 0.789611\n",
            "\tbest_validation_score so far: 0.790629\n",
            "Fitting model 18/20\n",
            "hyperparameters: {'activation_fns': <function relu at 0x7efd0ae1f3d0>, 'weight_decay_penalty': 0.0, 'layer_sizes': [200], 'nb_epoch': 50, 'weight_decay_penalty_type': 'l2', 'alpha_init_stddevs': 0.04, 'bias_init_consts': 1.0, 'weight_init_stddevs': 0.02, 'dropouts': 0.5, 'learning_rate': 0.0001}\n",
            "computed_metrics: [0.7643497711834841, 0.846439585085506, 0.8802061347966793, 0.8986988847583643, 0.8136288998357963, 0.6196803462283134, 0.7309752321981424, 0.7396296296296296, 0.5816562532362181, 0.7657487922705314, 0.9028558052434457]\n",
            "Model 18/20, Metric mean-roc_auc_score, Validation set 17: 0.776715\n",
            "\tbest_validation_score so far: 0.790629\n",
            "Fitting model 19/20\n",
            "hyperparameters: {'activation_fns': <function relu at 0x7efd0ae1f3d0>, 'weight_decay_penalty': 0.0, 'layer_sizes': [200], 'nb_epoch': 100, 'weight_decay_penalty_type': 'l2', 'alpha_init_stddevs': 0.04, 'bias_init_consts': 1.0, 'weight_init_stddevs': 0.02, 'dropouts': 0.5, 'learning_rate': 0.001}\n",
            "computed_metrics: [0.7893656754704592, 0.8703479814970563, 0.9006789081187562, 0.8390644361833952, 0.8604269293924467, 0.6320185262518507, 0.7521362229102166, 0.7830555555555555, 0.6151403224136145, 0.8055314009661836, 0.8867041198501873]\n",
            "Model 19/20, Metric mean-roc_auc_score, Validation set 18: 0.794043\n",
            "\tbest_validation_score so far: 0.794043\n",
            "Fitting model 20/20\n",
            "hyperparameters: {'activation_fns': <function relu at 0x7efd0ae1f3d0>, 'weight_decay_penalty': 0.0, 'layer_sizes': [200], 'nb_epoch': 100, 'weight_decay_penalty_type': 'l2', 'alpha_init_stddevs': 0.04, 'bias_init_consts': 1.0, 'weight_init_stddevs': 0.02, 'dropouts': 0.5, 'learning_rate': 0.0001}\n",
            "computed_metrics: [0.7641035112561309, 0.8499439304737875, 0.8867313915857604, 0.8935873605947955, 0.8299808429118773, 0.6199840552750464, 0.7372136222910217, 0.7537037037037038, 0.5889744209327212, 0.7710386473429951, 0.9003979400749064]\n",
            "Model 20/20, Metric mean-roc_auc_score, Validation set 19: 0.781424\n",
            "\tbest_validation_score so far: 0.794043\n",
            "computed_metrics: [0.8447265173710916, 0.9666308160127163, 0.9277936044002121, 0.9992755430458071, 0.9607241383130769, 0.7618861248246234, 0.777807442280023, 0.9964656565933313, 0.7918395186306388, 0.8816073182186926, 0.9998888799094876]\n",
            "Best hyperparameters: (<function relu at 0x7efd0ae1f3d0>, 0.04, 1.0, 0.02, 0.0, [200], 100, 0.001, 0.5, 'l2')\n",
            "train_score: 0.900786\n",
            "validation_score: 0.794043\n"
          ],
          "name": "stdout"
        }
      ]
    },
    {
      "cell_type": "code",
      "metadata": {
        "id": "OzkE0l9x37ir",
        "colab_type": "code",
        "outputId": "f50ec2ca-2458-44d8-d872-081fb1a63670",
        "colab": {
          "base_uri": "https://localhost:8080/",
          "height": 190
        }
      },
      "source": [
        "all_results"
      ],
      "execution_count": 0,
      "outputs": [
        {
          "output_type": "execute_result",
          "data": {
            "text/plain": [
              "{\"(<function relu at 0x7f83cf574b50>, 0.04, 1.0, 0.02, 0.0, [100], 100, 0.001, 0.5, 'l2')\": 0.7829517391323453,\n",
              " \"(<function relu at 0x7f83cf574b50>, 0.04, 1.0, 0.02, 0.0, [100], 50, 0.001, 0.5, 'l2')\": 0.7852873629239835,\n",
              " \"(<function relu at 0x7f83cf574b50>, 0.04, 1.0, 0.02, 0.0, [150], 100, 0.001, 0.5, 'l2')\": 0.7876438970829027,\n",
              " \"(<function relu at 0x7f83cf574b50>, 0.04, 1.0, 0.02, 0.0, [150], 50, 0.001, 0.5, 'l2')\": 0.7846428101709567,\n",
              " \"(<function relu at 0x7f83cf574b50>, 0.04, 1.0, 0.02, 0.0, [200], 100, 0.001, 0.5, 'l2')\": 0.7846865165147555,\n",
              " \"(<function relu at 0x7f83cf574b50>, 0.04, 1.0, 0.02, 0.0, [200], 50, 0.001, 0.5, 'l2')\": 0.782814158200572,\n",
              " \"(<function relu at 0x7f83cf574b50>, 0.04, 1.0, 0.02, 0.0, [20], 100, 0.001, 0.5, 'l2')\": 0.7831259287323963,\n",
              " \"(<function relu at 0x7f83cf574b50>, 0.04, 1.0, 0.02, 0.0, [20], 50, 0.001, 0.5, 'l2')\": 0.7843103954314071,\n",
              " \"(<function relu at 0x7f83cf574b50>, 0.04, 1.0, 0.02, 0.0, [50], 100, 0.001, 0.5, 'l2')\": 0.7840679085053771,\n",
              " \"(<function relu at 0x7f83cf574b50>, 0.04, 1.0, 0.02, 0.0, [50], 50, 0.001, 0.5, 'l2')\": 0.7813014835736486}"
            ]
          },
          "metadata": {
            "tags": []
          },
          "execution_count": 218
        }
      ]
    },
    {
      "cell_type": "markdown",
      "metadata": {
        "id": "SXIDR1L5NG7Y",
        "colab_type": "text"
      },
      "source": [
        "# Test Model"
      ]
    },
    {
      "cell_type": "code",
      "metadata": {
        "id": "g3Ij8rfYWe8m",
        "colab_type": "code",
        "outputId": "53bdb180-a1c4-4240-a62e-afb85aedac11",
        "colab": {
          "base_uri": "https://localhost:8080/",
          "height": 86
        }
      },
      "source": [
        "targets"
      ],
      "execution_count": 0,
      "outputs": [
        {
          "output_type": "execute_result",
          "data": {
            "text/plain": [
              "Index([u'astack', u'nastack', u'pair', u'pucker_C1p_exo', u'pucker_C2p_endo',\n",
              "       u'pucker_C2p_exo', u'pucker_C3p_endo', u'pucker_C3p_exo',\n",
              "       u'pucker_C4p_exo', u'sasa', u'syn_anti'],\n",
              "      dtype='object')"
            ]
          },
          "metadata": {
            "tags": []
          },
          "execution_count": 103
        }
      ]
    },
    {
      "cell_type": "code",
      "metadata": {
        "id": "XIbnOgWfNOt2",
        "colab_type": "code",
        "outputId": "548379e0-2c07-4978-ce89-4da51bdc899f",
        "colab": {
          "base_uri": "https://localhost:8080/",
          "height": 664
        }
      },
      "source": [
        "model = dc.models.ProgressiveMultitaskClassifier(n_tasks=n_tasks,n_features=n_features,layer_sizes=[100],alpha_init_stddevs=0.04,learning_rate=0.001)\n",
        "model.fit(train_dataset_balanced, nb_epoch=50)\n",
        "\n",
        "colors = cm.rainbow(np.linspace(0, 1, len(targets)))\n",
        "testpred = model.predict(test_dataset_norm) \n",
        "plt.figure()\n",
        "lw = 3\n",
        "\n",
        "# get TPR and FPR\n",
        "for i,target in enumerate(targets):\n",
        "  fpr, tpr, thresholds = roc_curve(test_dataset_norm.y[:, i], testpred[:, i, 1].flatten())\n",
        "  roc_auc = auc(fpr, tpr)\n",
        "  # Make plot\n",
        "  plt.plot(fpr, tpr, color=colors[i],lw=lw, label='%s (area = %0.2f)' % (target, roc_auc))\n",
        "\n",
        "plt.plot([0, 1], [0, 1], color='navy', lw=lw, linestyle='--')\n",
        "plt.xlim([0.0, 1.0])\n",
        "plt.ylim([0.0, 1.05])\n",
        "plt.xlabel('False Positive Rate')\n",
        "plt.ylabel('True Positive Rate')\n",
        "plt.title('Receiver operating characteristic example')\n",
        "plt.legend(loc=(1.1,0))\n",
        "plt.show()\n",
        "\n",
        "\n",
        "info = pd.read_csv(DIR_PATH+\"info.csv\", delim_whitespace=True, header=0)\n",
        "actuals = pd.read_csv(DIR_PATH+\"actuals.csv\", delim_whitespace=True, header=0)\n",
        "predictions = pd.DataFrame(testpred[:, :, 1], columns=[\"p\"+i for i in targets])\n",
        "predictions = pd.concat([info, actuals, predictions], axis=1)\n",
        "predictions.to_csv(DIR_PATH+'deepchem_testset_predictions.txt', sep = ' ')\n",
        "predictions.tail()"
      ],
      "execution_count": 0,
      "outputs": [
        {
          "output_type": "display_data",
          "data": {
            "image/png": "[encoded data removed]",
            "text/plain": [
              "<Figure size 432x288 with 1 Axes>"
            ]
          },
          "metadata": {
            "tags": []
          }
        },
        {
          "output_type": "execute_result",
          "data": {
            "text/html": [
              "<div>\n",
              "<style scoped>\n",
              "    .dataframe tbody tr th:only-of-type {\n",
              "        vertical-align: middle;\n",
              "    }\n",
              "\n",
              "    .dataframe tbody tr th {\n",
              "        vertical-align: top;\n",
              "    }\n",
              "\n",
              "    .dataframe thead th {\n",
              "        text-align: right;\n",
              "    }\n",
              "</style>\n",
              "<table border=\"1\" class=\"dataframe\">\n",
              "  <thead>\n",
              "    <tr style=\"text-align: right;\">\n",
              "      <th></th>\n",
              "      <th>id</th>\n",
              "      <th>resid</th>\n",
              "      <th>sasa</th>\n",
              "      <th>sasa</th>\n",
              "      <th>astack</th>\n",
              "      <th>nastack</th>\n",
              "      <th>pair</th>\n",
              "      <th>syn_anti</th>\n",
              "      <th>pucker_C2p_endo</th>\n",
              "      <th>pucker_C3p_endo</th>\n",
              "      <th>pucker_C2p_exo</th>\n",
              "      <th>pucker_C3p_exo</th>\n",
              "      <th>pucker_C1p_exo</th>\n",
              "      <th>pucker_C4p_exo</th>\n",
              "      <th>pastack</th>\n",
              "      <th>pnastack</th>\n",
              "      <th>ppair</th>\n",
              "      <th>ppucker_C1p_exo</th>\n",
              "      <th>ppucker_C2p_endo</th>\n",
              "      <th>ppucker_C2p_exo</th>\n",
              "      <th>ppucker_C3p_endo</th>\n",
              "      <th>ppucker_C3p_exo</th>\n",
              "      <th>ppucker_C4p_exo</th>\n",
              "      <th>psasa</th>\n",
              "      <th>psyn_anti</th>\n",
              "    </tr>\n",
              "  </thead>\n",
              "  <tbody>\n",
              "    <tr>\n",
              "      <th>279</th>\n",
              "      <td>5KH8</td>\n",
              "      <td>43</td>\n",
              "      <td>183.51</td>\n",
              "      <td>0.0</td>\n",
              "      <td>1.0</td>\n",
              "      <td>0.0</td>\n",
              "      <td>1.0</td>\n",
              "      <td>0.0</td>\n",
              "      <td>0.0</td>\n",
              "      <td>1.0</td>\n",
              "      <td>0.0</td>\n",
              "      <td>0.0</td>\n",
              "      <td>0.0</td>\n",
              "      <td>0.0</td>\n",
              "      <td>0.725117</td>\n",
              "      <td>0.000082</td>\n",
              "      <td>0.588342</td>\n",
              "      <td>3.403920e-07</td>\n",
              "      <td>0.215723</td>\n",
              "      <td>0.306693</td>\n",
              "      <td>0.612118</td>\n",
              "      <td>0.007732</td>\n",
              "      <td>0.512214</td>\n",
              "      <td>0.352592</td>\n",
              "      <td>1.757448e-03</td>\n",
              "    </tr>\n",
              "    <tr>\n",
              "      <th>280</th>\n",
              "      <td>5KH8</td>\n",
              "      <td>44</td>\n",
              "      <td>180.49</td>\n",
              "      <td>0.0</td>\n",
              "      <td>1.0</td>\n",
              "      <td>0.0</td>\n",
              "      <td>1.0</td>\n",
              "      <td>0.0</td>\n",
              "      <td>0.0</td>\n",
              "      <td>1.0</td>\n",
              "      <td>0.0</td>\n",
              "      <td>0.0</td>\n",
              "      <td>0.0</td>\n",
              "      <td>0.0</td>\n",
              "      <td>0.354524</td>\n",
              "      <td>0.009179</td>\n",
              "      <td>0.326662</td>\n",
              "      <td>1.211375e-05</td>\n",
              "      <td>0.157825</td>\n",
              "      <td>0.457723</td>\n",
              "      <td>0.486264</td>\n",
              "      <td>0.002975</td>\n",
              "      <td>0.565263</td>\n",
              "      <td>0.558465</td>\n",
              "      <td>1.449380e-04</td>\n",
              "    </tr>\n",
              "    <tr>\n",
              "      <th>281</th>\n",
              "      <td>5KH8</td>\n",
              "      <td>45</td>\n",
              "      <td>163.27</td>\n",
              "      <td>0.0</td>\n",
              "      <td>1.0</td>\n",
              "      <td>0.0</td>\n",
              "      <td>1.0</td>\n",
              "      <td>0.0</td>\n",
              "      <td>0.0</td>\n",
              "      <td>1.0</td>\n",
              "      <td>0.0</td>\n",
              "      <td>0.0</td>\n",
              "      <td>0.0</td>\n",
              "      <td>0.0</td>\n",
              "      <td>0.548085</td>\n",
              "      <td>0.066913</td>\n",
              "      <td>0.468874</td>\n",
              "      <td>1.209727e-09</td>\n",
              "      <td>0.031965</td>\n",
              "      <td>0.209974</td>\n",
              "      <td>0.694067</td>\n",
              "      <td>0.030673</td>\n",
              "      <td>0.431081</td>\n",
              "      <td>0.390296</td>\n",
              "      <td>1.385608e-06</td>\n",
              "    </tr>\n",
              "    <tr>\n",
              "      <th>282</th>\n",
              "      <td>5KH8</td>\n",
              "      <td>46</td>\n",
              "      <td>188.07</td>\n",
              "      <td>0.0</td>\n",
              "      <td>1.0</td>\n",
              "      <td>0.0</td>\n",
              "      <td>0.0</td>\n",
              "      <td>0.0</td>\n",
              "      <td>0.0</td>\n",
              "      <td>1.0</td>\n",
              "      <td>0.0</td>\n",
              "      <td>0.0</td>\n",
              "      <td>0.0</td>\n",
              "      <td>0.0</td>\n",
              "      <td>0.617859</td>\n",
              "      <td>0.824933</td>\n",
              "      <td>0.534242</td>\n",
              "      <td>9.654343e-20</td>\n",
              "      <td>0.230739</td>\n",
              "      <td>0.592940</td>\n",
              "      <td>0.663439</td>\n",
              "      <td>0.000052</td>\n",
              "      <td>0.231041</td>\n",
              "      <td>0.521672</td>\n",
              "      <td>3.959673e-08</td>\n",
              "    </tr>\n",
              "    <tr>\n",
              "      <th>283</th>\n",
              "      <td>5KH8</td>\n",
              "      <td>47</td>\n",
              "      <td>338.68</td>\n",
              "      <td>1.0</td>\n",
              "      <td>1.0</td>\n",
              "      <td>0.0</td>\n",
              "      <td>0.0</td>\n",
              "      <td>0.0</td>\n",
              "      <td>0.0</td>\n",
              "      <td>1.0</td>\n",
              "      <td>0.0</td>\n",
              "      <td>0.0</td>\n",
              "      <td>0.0</td>\n",
              "      <td>0.0</td>\n",
              "      <td>0.389035</td>\n",
              "      <td>0.000176</td>\n",
              "      <td>0.700780</td>\n",
              "      <td>3.749771e-35</td>\n",
              "      <td>0.263581</td>\n",
              "      <td>0.455845</td>\n",
              "      <td>0.611243</td>\n",
              "      <td>0.016825</td>\n",
              "      <td>0.496183</td>\n",
              "      <td>0.999758</td>\n",
              "      <td>1.286099e-22</td>\n",
              "    </tr>\n",
              "  </tbody>\n",
              "</table>\n",
              "</div>"
            ],
            "text/plain": [
              "       id  resid    sasa  ...  ppucker_C4p_exo     psasa     psyn_anti\n",
              "279  5KH8     43  183.51  ...         0.512214  0.352592  1.757448e-03\n",
              "280  5KH8     44  180.49  ...         0.565263  0.558465  1.449380e-04\n",
              "281  5KH8     45  163.27  ...         0.431081  0.390296  1.385608e-06\n",
              "282  5KH8     46  188.07  ...         0.231041  0.521672  3.959673e-08\n",
              "283  5KH8     47  338.68  ...         0.496183  0.999758  1.286099e-22\n",
              "\n",
              "[5 rows x 25 columns]"
            ]
          },
          "metadata": {
            "tags": []
          },
          "execution_count": 133
        }
      ]
    },
    {
      "cell_type": "code",
      "metadata": {
        "id": "aopd4j8iCumS",
        "colab_type": "code",
        "outputId": "386f2e82-6347-4b2b-e814-351cb37ca160",
        "colab": {
          "base_uri": "https://localhost:8080/",
          "height": 378
        }
      },
      "source": [
        "recall1=[]\n",
        "recall0=[]\n",
        "balanced_accuracys=[]\n",
        "for i,target in enumerate(targets):\n",
        "  recall1.append(recall_score(test_dataset_norm.y[:, i], testpred[:, i, 1].flatten()>=0.5))\n",
        "  recall0.append(recall_score(test_dataset_norm.y[:, i], testpred[:, i, 1].flatten()>=0.5,pos_label=0))\n",
        "  balanced_accuracys.append(balanced_accuracy_score(test_dataset_norm.y[:, i], testpred[:, i, 1].flatten()>=0.5)) \n",
        "test_stats = pd.DataFrame({'sensitivity': recall1, 'specificity':recall0, 'balanced accuracy':balanced_accuracys})\n",
        "test_stats.index = targets\n",
        "test_stats.round(3)"
      ],
      "execution_count": 0,
      "outputs": [
        {
          "output_type": "execute_result",
          "data": {
            "text/html": [
              "<div>\n",
              "<style scoped>\n",
              "    .dataframe tbody tr th:only-of-type {\n",
              "        vertical-align: middle;\n",
              "    }\n",
              "\n",
              "    .dataframe tbody tr th {\n",
              "        vertical-align: top;\n",
              "    }\n",
              "\n",
              "    .dataframe thead th {\n",
              "        text-align: right;\n",
              "    }\n",
              "</style>\n",
              "<table border=\"1\" class=\"dataframe\">\n",
              "  <thead>\n",
              "    <tr style=\"text-align: right;\">\n",
              "      <th></th>\n",
              "      <th>balanced accuracy</th>\n",
              "      <th>sensitivity</th>\n",
              "      <th>specificity</th>\n",
              "    </tr>\n",
              "  </thead>\n",
              "  <tbody>\n",
              "    <tr>\n",
              "      <th>astack</th>\n",
              "      <td>0.605</td>\n",
              "      <td>0.698</td>\n",
              "      <td>0.511</td>\n",
              "    </tr>\n",
              "    <tr>\n",
              "      <th>nastack</th>\n",
              "      <td>0.759</td>\n",
              "      <td>0.737</td>\n",
              "      <td>0.781</td>\n",
              "    </tr>\n",
              "    <tr>\n",
              "      <th>pair</th>\n",
              "      <td>0.655</td>\n",
              "      <td>0.794</td>\n",
              "      <td>0.516</td>\n",
              "    </tr>\n",
              "    <tr>\n",
              "      <th>pucker_C1p_exo</th>\n",
              "      <td>0.668</td>\n",
              "      <td>0.500</td>\n",
              "      <td>0.837</td>\n",
              "    </tr>\n",
              "    <tr>\n",
              "      <th>pucker_C2p_endo</th>\n",
              "      <td>0.852</td>\n",
              "      <td>0.909</td>\n",
              "      <td>0.795</td>\n",
              "    </tr>\n",
              "    <tr>\n",
              "      <th>pucker_C2p_exo</th>\n",
              "      <td>0.651</td>\n",
              "      <td>0.615</td>\n",
              "      <td>0.686</td>\n",
              "    </tr>\n",
              "    <tr>\n",
              "      <th>pucker_C3p_endo</th>\n",
              "      <td>0.597</td>\n",
              "      <td>0.643</td>\n",
              "      <td>0.551</td>\n",
              "    </tr>\n",
              "    <tr>\n",
              "      <th>pucker_C3p_exo</th>\n",
              "      <td>0.580</td>\n",
              "      <td>0.250</td>\n",
              "      <td>0.911</td>\n",
              "    </tr>\n",
              "    <tr>\n",
              "      <th>pucker_C4p_exo</th>\n",
              "      <td>0.635</td>\n",
              "      <td>0.667</td>\n",
              "      <td>0.604</td>\n",
              "    </tr>\n",
              "    <tr>\n",
              "      <th>sasa</th>\n",
              "      <td>0.735</td>\n",
              "      <td>0.708</td>\n",
              "      <td>0.762</td>\n",
              "    </tr>\n",
              "    <tr>\n",
              "      <th>syn_anti</th>\n",
              "      <td>0.662</td>\n",
              "      <td>0.400</td>\n",
              "      <td>0.923</td>\n",
              "    </tr>\n",
              "  </tbody>\n",
              "</table>\n",
              "</div>"
            ],
            "text/plain": [
              "                 balanced accuracy  sensitivity  specificity\n",
              "astack                       0.605        0.698        0.511\n",
              "nastack                      0.759        0.737        0.781\n",
              "pair                         0.655        0.794        0.516\n",
              "pucker_C1p_exo               0.668        0.500        0.837\n",
              "pucker_C2p_endo              0.852        0.909        0.795\n",
              "pucker_C2p_exo               0.651        0.615        0.686\n",
              "pucker_C3p_endo              0.597        0.643        0.551\n",
              "pucker_C3p_exo               0.580        0.250        0.911\n",
              "pucker_C4p_exo               0.635        0.667        0.604\n",
              "sasa                         0.735        0.708        0.762\n",
              "syn_anti                     0.662        0.400        0.923"
            ]
          },
          "metadata": {
            "tags": []
          },
          "execution_count": 140
        }
      ]
    },
    {
      "cell_type": "code",
      "metadata": {
        "id": "6vm7lB2Lbhpj",
        "colab_type": "code",
        "outputId": "76233515-845e-44fa-f89b-d8383ef8ec3c",
        "colab": {
          "base_uri": "https://localhost:8080/",
          "height": 69
        }
      },
      "source": [
        "predictions['syn_anti'].value_counts()"
      ],
      "execution_count": 0,
      "outputs": [
        {
          "output_type": "execute_result",
          "data": {
            "text/plain": [
              "0.0    274\n",
              "1.0     10\n",
              "Name: syn_anti, dtype: int64"
            ]
          },
          "metadata": {
            "tags": []
          },
          "execution_count": 145
        }
      ]
    },
    {
      "cell_type": "markdown",
      "metadata": {
        "id": "dkTlexk8uzvy",
        "colab_type": "text"
      },
      "source": [
        "### Analyze deepchem testing result"
      ]
    },
    {
      "cell_type": "code",
      "metadata": {
        "id": "UNmaNAvPu26U",
        "colab_type": "code",
        "outputId": "5b704a9b-e96e-4c1f-e07b-f7d23bb16f27",
        "colab": {
          "base_uri": "https://localhost:8080/",
          "height": 52
        }
      },
      "source": [
        "print(confusion_matrix(predictions[predictions['id']=='5KH8']['pair'],predictions[predictions['id']=='5KH8']['ppair']>=0.5))"
      ],
      "execution_count": 0,
      "outputs": [
        {
          "output_type": "stream",
          "text": [
            "[[ 9  4]\n",
            " [ 6 28]]\n"
          ],
          "name": "stdout"
        }
      ]
    },
    {
      "cell_type": "code",
      "metadata": {
        "id": "4yArfZOCHdbz",
        "colab_type": "code",
        "outputId": "209ed214-57e2-446e-c78f-07ea5feb603a",
        "colab": {
          "base_uri": "https://localhost:8080/",
          "height": 69
        }
      },
      "source": [
        "predictions[predictions['id']=='5KH8']['pair'].value_counts()"
      ],
      "execution_count": 0,
      "outputs": [
        {
          "output_type": "execute_result",
          "data": {
            "text/plain": [
              "1.0    34\n",
              "0.0    13\n",
              "Name: pair, dtype: int64"
            ]
          },
          "metadata": {
            "tags": []
          },
          "execution_count": 199
        }
      ]
    }
  ]
}